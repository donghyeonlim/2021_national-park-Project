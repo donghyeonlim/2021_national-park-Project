{
 "cells": [
  {
   "cell_type": "code",
   "execution_count": 7,
   "id": "5517928f",
   "metadata": {
    "ExecuteTime": {
     "end_time": "2021-11-01T06:25:30.677334Z",
     "start_time": "2021-11-01T06:25:30.660719Z"
    }
   },
   "outputs": [],
   "source": [
    "from glob import glob\n",
    "import cv2\n",
    "import numpy as np"
   ]
  },
  {
   "cell_type": "markdown",
   "id": "f1d1b64a",
   "metadata": {},
   "source": [
    "# wildboar\n",
    "### 사용법\n",
    "1. glob으로 사진 목록을 만듬\n",
    "2. start는 1부터 len(jpg_list_wildboar) 사이의 값으로\n",
    "3. q를 누르면 현재까지 돌린내용 저장하고 종료, 출력물로 다음 start값 확인해서 재사용 가능\n",
    "4. 지워야할 것을 실수하면 b키로 이전사진 재확인이 가능.\n",
    "5. 지우지말아야 할 것을 r키로 기록했다면 q를 눌러 종료 후 __반드시 jpg.txt와 txt.txt파일 모두 맨 마지막줄 삭제할 것__\n",
    "."
   ]
  },
  {
   "cell_type": "code",
   "execution_count": 8,
   "id": "a2c8d605",
   "metadata": {
    "ExecuteTime": {
     "end_time": "2021-11-01T06:25:33.779958Z",
     "start_time": "2021-11-01T06:25:33.710471Z"
    }
   },
   "outputs": [],
   "source": [
    "jpg_list_wildboar = glob('image_wildboar/*.jpg')\n",
    "for i, name in enumerate(jpg_list_wildboar):\n",
    "    jpg_list_wildboar[i] = name[15:-4]"
   ]
  },
  {
   "cell_type": "code",
   "execution_count": 43,
   "id": "7b950662",
   "metadata": {
    "ExecuteTime": {
     "end_time": "2021-11-01T04:03:12.363380Z",
     "start_time": "2021-11-01T04:03:10.824103Z"
    }
   },
   "outputs": [
    {
     "name": "stdout",
     "output_type": "stream",
     "text": [
      "999_멧돼지 20190626 1922-23 6(새끼4) (2) 14.jpg 까지 확인하였습니다.\n",
      "999_멧돼지 20190626 1922-23 6(새끼4) (2) 14.jpg 는 12451번째이므로 다음에 돌리면 start값을 12452로 주세요\n",
      "세이브 완료!\n",
      "strange_wildboar_jpg.txt파일과 strange_wildboar_txt.txt 확인\n"
     ]
    }
   ],
   "source": [
    "# p를 누르면 다음사진 | press 'p' means show next sccne\n",
    "# b를 누르면 이전사진 | press 'b' means show before scene\n",
    "# r을 누르면 이상한 사진목록 세이브 | press 'r' means record strange scene name\n",
    "# q를 누르면 종료 | press 'q' means quit system\n",
    "\n",
    "start = 12450\n",
    "\n",
    "if (start < 1) | (start > len(jpg_list_wildboar)):\n",
    "    raise ValueError('start number must in range [1, len(jpg_list_wildboar)]')\n",
    "if type(start) != int:\n",
    "    raise ValueError('start number type must be int')\n",
    "strange_jpg = []\n",
    "strange_txt = []\n",
    "i = start - 1\n",
    "while i < len(jpg_list_wildboar):  # 사진갯수만큼 프로그램 돌림\n",
    "    img_array = np.fromfile('image_wildboar/' + jpg_list_wildboar[i] + '.jpg',\n",
    "                            np.uint8)  #한글명 디코딩\n",
    "    img = cv2.imdecode(img_array, cv2.IMREAD_COLOR)\n",
    "    fy, fx, _ = img.shape  # 사진크기 받아옴, 칼라여부 안받음\n",
    "    with open('label_wildboar/' + jpg_list_wildboar[i] + '.txt',\n",
    "              'r') as f:  # 라벨링 txt파일 불러옴\n",
    "        code = f.read().split('\\n')\n",
    "    for j in range(len(code)):  # bbox가 두개 이상일 경우를 위해 반복문\n",
    "        _, x, y, w, h = code[j].split(' ')  # 카테고리 안받음\n",
    "        x = float(x)\n",
    "        y = float(y)\n",
    "        w = float(w)\n",
    "        h = float(h)\n",
    "        x1 = round(-fx / 2 * w + fx * x)\n",
    "        x2 = round(fx / 2 * w + fx * x)\n",
    "        y1 = round(-fy / 2 * h + fy * y)\n",
    "        y2 = round(fy / 2 * h + fy * y)  # CV2 포맷\n",
    "        cv2.rectangle(img, (x1, y1), (x2, y2), (0, 0, 255), 5)\n",
    "    cv2.imshow(str(i), img)  # 사진띄우기; 제목, 사진\n",
    "    cv2.moveWindow(str(i), -16, -31)  # 창 위치 조절\n",
    "    key = cv2.waitKey()\n",
    "    if key == ord('q'):  # q 누르면 종료\n",
    "        break\n",
    "    if key == ord('r'):  # r 누르면 저장하고 다음 사진\n",
    "        strange_jpg.append(jpg_list_wildboar[i] + '.jpg')\n",
    "        strange_txt.append(jpg_list_wildboar[i] + '.txt')\n",
    "        i += 1\n",
    "        cv2.destroyAllWindows()\n",
    "    if key == ord('p'):  # p 누르면 다음 사진\n",
    "        i += 1\n",
    "        cv2.destroyAllWindows()\n",
    "    if key == ord('b'):  # b 누르면 이전 사진\n",
    "        i -= 1\n",
    "        cv2.destroyAllWindows()\n",
    "    cv2.destroyAllWindows()\n",
    "cv2.destroyAllWindows()\n",
    "if i <= len(jpg_list_wildboar) - 1:\n",
    "    print(jpg_list_wildboar[i], '.jpg 까지 확인하였습니다.', sep='')\n",
    "    print(jpg_list_wildboar[i],\n",
    "          f'.jpg 는 {i+1}번째이므로 다음에 돌리면 start값을 {i+2}로 주세요',\n",
    "          sep='')\n",
    "else:\n",
    "    print('검수 끝! 수고링')\n",
    "# 저장된 이상한 사진 분리\n",
    "jpg = ''\n",
    "txt = ''\n",
    "for i in range(len(strange_jpg)):\n",
    "    jpg += strange_jpg[i]\n",
    "    jpg += '\\n'\n",
    "    txt += strange_txt[i]\n",
    "    txt += '\\n'\n",
    "# strange_wildboar.txt로 목록 저장\n",
    "with open('strange_wildboar_jpg.txt', 'a') as f:\n",
    "    f.write(jpg)\n",
    "with open('strange_wildboar_txt.txt', 'a') as f:\n",
    "    f.write(txt)\n",
    "print('세이브 완료!')\n",
    "print('strange_wildboar_jpg.txt파일과 strange_wildboar_txt.txt 확인')"
   ]
  },
  {
   "cell_type": "markdown",
   "id": "2e6ad6cb",
   "metadata": {},
   "source": [
    "# gorani"
   ]
  },
  {
   "cell_type": "code",
   "execution_count": 4,
   "id": "ac3a021c",
   "metadata": {
    "ExecuteTime": {
     "end_time": "2021-11-01T06:05:04.211463Z",
     "start_time": "2021-11-01T06:05:02.754311Z"
    }
   },
   "outputs": [],
   "source": [
    "jpg_list_gorani = glob('image_gorani/*.jpg')\n",
    "for i, name in enumerate(jpg_list_gorani):\n",
    "    jpg_list_gorani[i] = name[13:-4]"
   ]
  },
  {
   "cell_type": "code",
   "execution_count": 6,
   "id": "ea72457d",
   "metadata": {
    "ExecuteTime": {
     "end_time": "2021-11-01T06:05:19.881575Z",
     "start_time": "2021-11-01T06:05:13.367768Z"
    }
   },
   "outputs": [
    {
     "name": "stdout",
     "output_type": "stream",
     "text": [
      "10004_소북_생태통로_001_고라니_20191114_2318-41 (10) 20.jpg 까지 확인하였습니다.\n",
      "10004_소북_생태통로_001_고라니_20191114_2318-41 (10) 20.jpg 는 5번째이므로 다음에 돌리면 start값을 6로 주세요\n",
      "세이브 완료!\n",
      "strange_gorani_jpg.txt파일과 strange_gorani_txt.txt 확인\n"
     ]
    }
   ],
   "source": [
    "# p를 누르면 다음사진 | press 'p' means show next sccne\n",
    "# b를 누르면 이전사진 | press 'b' means show before scene\n",
    "# r을 누르면 이상한 사진목록 세이브 | press 'r' means record strange scene name\n",
    "# q를 누르면 종료 | press 'q' means quit system\n",
    "\n",
    "start = 1\n",
    "\n",
    "if (start < 1) | (start > len(jpg_list_gorani)):\n",
    "    raise ValueError('start number must in range [1, len(jpg_list_gorani)]')\n",
    "if type(start) != int:\n",
    "    raise ValueError('start number type must be int')\n",
    "strange_jpg = []\n",
    "strange_txt = []\n",
    "i = start - 1\n",
    "while i < len(jpg_list_gorani):  # 사진갯수만큼 프로그램 돌림\n",
    "    img_array = np.fromfile('image_gorani/' + jpg_list_gorani[i] + '.jpg',\n",
    "                            np.uint8)  #한글명 디코딩\n",
    "    img = cv2.imdecode(img_array, cv2.IMREAD_COLOR)\n",
    "    fy, fx, _ = img.shape  # 사진크기 받아옴, 칼라여부 안받음\n",
    "    with open('label_gorani/' + jpg_list_gorani[i] + '.txt',\n",
    "              'r') as f:  # 라벨링 txt파일 불러옴\n",
    "        code = f.read().split('\\n')\n",
    "    for j in range(len(code)):  # bbox가 두개 이상일 경우를 위해 반복문\n",
    "        _, x, y, w, h = code[j].split(' ')  # 카테고리 안받음\n",
    "        x = float(x)\n",
    "        y = float(y)\n",
    "        w = float(w)\n",
    "        h = float(h)\n",
    "        x1 = round(-fx / 2 * w + fx * x)\n",
    "        x2 = round(fx / 2 * w + fx * x)\n",
    "        y1 = round(-fy / 2 * h + fy * y)\n",
    "        y2 = round(fy / 2 * h + fy * y)  # CV2 포맷\n",
    "        cv2.rectangle(img, (x1, y1), (x2, y2), (0, 0, 255), 5)\n",
    "    cv2.imshow(str(i), img)  # 사진띄우기; 제목, 사진\n",
    "    cv2.moveWindow(str(i), -16, -31)  # 창 위치 조절\n",
    "    key = cv2.waitKey()\n",
    "    if key == ord('q'):  # q 누르면 종료\n",
    "        break\n",
    "    if key == ord('r'):  # r 누르면 저장하고 다음 사진\n",
    "        strange_jpg.append(jpg_list_gorani[i] + '.jpg')\n",
    "        strange_txt.append(jpg_list_gorani[i] + '.txt')\n",
    "        i += 1\n",
    "        cv2.destroyAllWindows()\n",
    "    if key == ord('p'):  # p 누르면 다음 사진\n",
    "        i += 1\n",
    "        cv2.destroyAllWindows()\n",
    "    if key == ord('b'):  # b 누르면 이전 사진\n",
    "        i -= 1\n",
    "        cv2.destroyAllWindows()\n",
    "    cv2.destroyAllWindows()\n",
    "cv2.destroyAllWindows()\n",
    "if i <= len(jpg_list_gorani) - 1:\n",
    "    print(jpg_list_gorani[i], '.jpg 까지 확인하였습니다.', sep='')\n",
    "    print(jpg_list_gorani[i],\n",
    "          f'.jpg 는 {i+1}번째이므로 다음에 돌리면 start값을 {i+2}로 주세요',\n",
    "          sep='')\n",
    "else:\n",
    "    print('검수 끝! 수고링')\n",
    "# 저장된 이상한 사진 분리\n",
    "jpg = ''\n",
    "txt = ''\n",
    "for i in range(len(strange_jpg)):\n",
    "    jpg += strange_jpg[i]\n",
    "    jpg += '\\n'\n",
    "    txt += strange_txt[i]\n",
    "    txt += '\\n'\n",
    "# strange_gorani.txt로 목록 저장\n",
    "with open('strange_gorani_jpg.txt', 'a') as f:\n",
    "    f.write(jpg)\n",
    "with open('strange_gorani_txt.txt', 'a') as f:\n",
    "    f.write(txt)\n",
    "print('세이브 완료!')\n",
    "print('strange_gorani_jpg.txt파일과 strange_gorani_txt.txt 확인')"
   ]
  },
  {
   "cell_type": "code",
   "execution_count": null,
   "id": "06f37342",
   "metadata": {},
   "outputs": [],
   "source": []
  }
 ],
 "metadata": {
  "kernelspec": {
   "display_name": "Python 3 (ipykernel)",
   "language": "python",
   "name": "python3"
  },
  "language_info": {
   "codemirror_mode": {
    "name": "ipython",
    "version": 3
   },
   "file_extension": ".py",
   "mimetype": "text/x-python",
   "name": "python",
   "nbconvert_exporter": "python",
   "pygments_lexer": "ipython3",
   "version": "3.8.8"
  },
  "toc": {
   "base_numbering": 1,
   "nav_menu": {},
   "number_sections": true,
   "sideBar": true,
   "skip_h1_title": false,
   "title_cell": "Table of Contents",
   "title_sidebar": "Contents",
   "toc_cell": false,
   "toc_position": {},
   "toc_section_display": true,
   "toc_window_display": false
  },
  "varInspector": {
   "cols": {
    "lenName": 16,
    "lenType": 16,
    "lenVar": 40
   },
   "kernels_config": {
    "python": {
     "delete_cmd_postfix": "",
     "delete_cmd_prefix": "del ",
     "library": "var_list.py",
     "varRefreshCmd": "print(var_dic_list())"
    },
    "r": {
     "delete_cmd_postfix": ") ",
     "delete_cmd_prefix": "rm(",
     "library": "var_list.r",
     "varRefreshCmd": "cat(var_dic_list()) "
    }
   },
   "types_to_exclude": [
    "module",
    "function",
    "builtin_function_or_method",
    "instance",
    "_Feature"
   ],
   "window_display": false
  }
 },
 "nbformat": 4,
 "nbformat_minor": 5
}
