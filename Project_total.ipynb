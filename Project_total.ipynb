{
 "cells": [
  {
   "cell_type": "code",
   "execution_count": 1,
   "metadata": {
    "ExecuteTime": {
     "end_time": "2022-10-03T20:15:46.144628Z",
     "start_time": "2022-10-03T20:15:45.732223Z"
    }
   },
   "outputs": [],
   "source": [
    "import pandas as pd\n",
    "import numpy as np\n",
    "import json\n",
    "import os\n",
    "from glob import glob\n",
    "import cv2\n",
    "import sys"
   ]
  },
  {
   "cell_type": "markdown",
   "metadata": {},
   "source": [
    "## Json파일 불러오기"
   ]
  },
  {
   "cell_type": "code",
   "execution_count": 2,
   "metadata": {
    "ExecuteTime": {
     "end_time": "2022-10-03T20:15:49.600520Z",
     "start_time": "2022-10-03T20:15:49.390079Z"
    }
   },
   "outputs": [],
   "source": [
    "with open('result_md_v4.1.0.json', 'r', encoding='utf-8') as f:\n",
    "    json_data = json.load(f)"
   ]
  },
  {
   "cell_type": "code",
   "execution_count": 3,
   "metadata": {
    "ExecuteTime": {
     "end_time": "2022-10-03T20:15:50.791957Z",
     "start_time": "2022-10-03T20:15:50.527663Z"
    }
   },
   "outputs": [
    {
     "name": "stderr",
     "output_type": "stream",
     "text": [
      "IOPub data rate exceeded.\n",
      "The notebook server will temporarily stop sending output\n",
      "to the client in order to avoid crashing it.\n",
      "To change this limit, set the config variable\n",
      "`--NotebookApp.iopub_data_rate_limit`.\n",
      "\n",
      "Current values:\n",
      "NotebookApp.iopub_data_rate_limit=1000000.0 (bytes/sec)\n",
      "NotebookApp.rate_limit_window=3.0 (secs)\n",
      "\n"
     ]
    }
   ],
   "source": [
    "print(json_data) # 출력이 너무 많아서 못띄움"
   ]
  },
  {
   "cell_type": "code",
   "execution_count": null,
   "metadata": {
    "ExecuteTime": {
     "end_time": "2022-10-03T20:15:18.036825Z",
     "start_time": "2022-10-03T20:15:15.448935Z"
    }
   },
   "outputs": [],
   "source": [
    "from pprint import pprint # 차례대로 출력\n",
    "pprint(json_data) # 정지로 끌것."
   ]
  },
  {
   "cell_type": "code",
   "execution_count": 5,
   "metadata": {},
   "outputs": [
    {
     "data": {
      "text/plain": [
       "{'file': '/dataset/knps_03/images_and_annotations/all/설악_생태통로_080_너구리_20191010_0059 09.jpg',\n",
       " 'max_detection_conf': 0,\n",
       " 'detections': []}"
      ]
     },
     "execution_count": 5,
     "metadata": {},
     "output_type": "execute_result"
    }
   ],
   "source": [
    "json_data['images'][4] # 바운딩 박스가 그려지지 않은 사진의 정보"
   ]
  },
  {
   "cell_type": "code",
   "execution_count": 6,
   "metadata": {},
   "outputs": [
    {
     "data": {
      "text/plain": [
       "{'file': '/dataset/knps_03/images_and_annotations/all/소북_생태통로_001_멧돼지_20191107_2303 새끼 02.jpg',\n",
       " 'max_detection_conf': 0.919,\n",
       " 'detections': [{'category': '1',\n",
       "   'conf': 0.919,\n",
       "   'bbox': [0.5313, 0.5207, 0.02388, 0.07787]}]}"
      ]
     },
     "execution_count": 6,
     "metadata": {},
     "output_type": "execute_result"
    }
   ],
   "source": [
    "json_data['images'][0] # 바운딩 박스가 한 개 그려진 사진의 정보"
   ]
  },
  {
   "cell_type": "code",
   "execution_count": 10,
   "metadata": {},
   "outputs": [
    {
     "data": {
      "text/plain": [
       "{'file': '/dataset/knps_03/images_and_annotations/all/멧돼지 20190801 2105 6(새끼5) 13.jpg',\n",
       " 'max_detection_conf': 0.983,\n",
       " 'detections': [{'category': '1',\n",
       "   'conf': 0.983,\n",
       "   'bbox': [0.3125, 0.5581, 0.0824, 0.1299]},\n",
       "  {'category': '1', 'conf': 0.889, 'bbox': [0.535, 0.4652, 0.0634, 0.1768]}]}"
      ]
     },
     "execution_count": 10,
     "metadata": {},
     "output_type": "execute_result"
    }
   ],
   "source": [
    "json_data['images'][22] # 바운딩 박스가 두 개 그려진 사진의 정보"
   ]
  },
  {
   "cell_type": "code",
   "execution_count": 13,
   "metadata": {},
   "outputs": [
    {
     "name": "stdout",
     "output_type": "stream",
     "text": [
      "멧돼지 20190801 2105 6(새끼5) 13\n",
      "0.983\n",
      "[{'category': '1', 'conf': 0.983, 'bbox': [0.3125, 0.5581, 0.0824, 0.1299]}, {'category': '1', 'conf': 0.889, 'bbox': [0.535, 0.4652, 0.0634, 0.1768]}]\n",
      "{'category': '1', 'conf': 0.983, 'bbox': [0.3125, 0.5581, 0.0824, 0.1299]}\n",
      "[0.3125, 0.5581, 0.0824, 0.1299]\n",
      "{'category': '1', 'conf': 0.889, 'bbox': [0.535, 0.4652, 0.0634, 0.1768]}\n",
      "[0.535, 0.4652, 0.0634, 0.1768]\n"
     ]
    }
   ],
   "source": [
    "print(json_data['images'][22]['file'][44:][:-4]) # 파일명 추출\n",
    "print(json_data['images'][22]['max_detection_conf']) # 바운딩 박스가 여러 개일 경우의 conf 최댓값\n",
    "print(json_data['images'][22]['detections']) # 바운딩 박스의 정보\n",
    "print(json_data['images'][22]['detections'][0]) # 첫 번째 바운딩 박스의 정보\n",
    "print(json_data['images'][22]['detections'][0]['bbox']) #첫 번째 바운딩 박스의 좌표\n",
    "print(json_data['images'][22]['detections'][1]) # 두 번째 바운딩 박스의 정보\n",
    "print(json_data['images'][22]['detections'][1]['bbox']) #두 번째 바운딩 박스의 좌표"
   ]
  },
  {
   "cell_type": "code",
   "execution_count": 15,
   "metadata": {},
   "outputs": [
    {
     "name": "stdout",
     "output_type": "stream",
     "text": [
      "0 0.5313 0.5207 0.02388 0.07787\n"
     ]
    }
   ],
   "source": [
    "# 바운딩 박스 좌표 욜로 포맷으로 출력 연습\n",
    "bbox='0'\n",
    "for i in range(4):\n",
    "    bbox+=' '+str(json_data['images'][0]['detections'][0]['bbox'][i])\n",
    "print(bbox)"
   ]
  },
  {
   "cell_type": "code",
   "execution_count": 3,
   "metadata": {},
   "outputs": [
    {
     "name": "stderr",
     "output_type": "stream",
     "text": [
      "C:\\anaconda\\lib\\site-packages\\pandas\\core\\dtypes\\cast.py:881: VisibleDeprecationWarning: Creating an ndarray from ragged nested sequences (which is a list-or-tuple of lists-or-tuples-or ndarrays with different lengths or shapes) is deprecated. If you meant to do this, you must specify 'dtype=object' when creating the ndarray.\n",
      "  element = np.asarray(element)\n"
     ]
    }
   ],
   "source": [
    "# 데이터프레임 생성\n",
    "df=pd.DataFrame(columns=(['file_name', 'max_conf', 'category', 'conf', 'bbox']))\n",
    "for i in range(len(json_data['images'])): # 사진 갯수만큼 반복\n",
    "    file_name=json_data['images'][i]['file'][44:][:-4]\n",
    "    max_conf=json_data['images'][i]['max_detection_conf']\n",
    "    category=[]\n",
    "    conf=[]\n",
    "    bbox=[]\n",
    "    if max_conf != 0: # bbox값이 존재하면\n",
    "        for j in range(len(json_data['images'][i]['detections'])): # bbox가 여러개일 수 있으므로 반복문 # 2:22, 3:60, 4:570 5:113 6:3005\n",
    "            category.append(json_data['images'][i]['detections'][j]['category'])\n",
    "            conf.append(json_data['images'][i]['detections'][j]['conf'])\n",
    "            bbox.append(json_data['images'][i]['detections'][j]['bbox'])\n",
    "    else: # bbox값이 존재하지 않으면 공백처리\n",
    "        category=np.nan\n",
    "        conf=np.nan\n",
    "        bbox=np.nan\n",
    "    li=[file_name, max_conf, category, conf, bbox]\n",
    "    df.loc[i]=li"
   ]
  },
  {
   "cell_type": "code",
   "execution_count": 18,
   "metadata": {},
   "outputs": [
    {
     "name": "stdout",
     "output_type": "stream",
     "text": [
      "(60234, 5)\n",
      "<class 'pandas.core.frame.DataFrame'>\n",
      "Int64Index: 60234 entries, 0 to 60233\n",
      "Data columns (total 5 columns):\n",
      " #   Column     Non-Null Count  Dtype  \n",
      "---  ------     --------------  -----  \n",
      " 0   file_name  60234 non-null  object \n",
      " 1   max_conf   60234 non-null  float64\n",
      " 2   category   30213 non-null  object \n",
      " 3   conf       30213 non-null  object \n",
      " 4   bbox       30213 non-null  object \n",
      "dtypes: float64(1), object(4)\n",
      "memory usage: 2.8+ MB\n",
      "None\n"
     ]
    },
    {
     "data": {
      "text/html": [
       "<div>\n",
       "<style scoped>\n",
       "    .dataframe tbody tr th:only-of-type {\n",
       "        vertical-align: middle;\n",
       "    }\n",
       "\n",
       "    .dataframe tbody tr th {\n",
       "        vertical-align: top;\n",
       "    }\n",
       "\n",
       "    .dataframe thead th {\n",
       "        text-align: right;\n",
       "    }\n",
       "</style>\n",
       "<table border=\"1\" class=\"dataframe\">\n",
       "  <thead>\n",
       "    <tr style=\"text-align: right;\">\n",
       "      <th></th>\n",
       "      <th>file_name</th>\n",
       "      <th>max_conf</th>\n",
       "      <th>category</th>\n",
       "      <th>conf</th>\n",
       "      <th>bbox</th>\n",
       "    </tr>\n",
       "  </thead>\n",
       "  <tbody>\n",
       "    <tr>\n",
       "      <th>0</th>\n",
       "      <td>소북_생태통로_001_멧돼지_20191107_2303 새끼 02</td>\n",
       "      <td>0.919</td>\n",
       "      <td>[1]</td>\n",
       "      <td>[0.919]</td>\n",
       "      <td>[[0.5313, 0.5207, 0.02388, 0.07787]]</td>\n",
       "    </tr>\n",
       "    <tr>\n",
       "      <th>1</th>\n",
       "      <td>소북_생태통로_001_고라니_20190808_1521 08</td>\n",
       "      <td>0.981</td>\n",
       "      <td>[1]</td>\n",
       "      <td>[0.981]</td>\n",
       "      <td>[[0.02443, 0.4087, 0.142, 0.2411]]</td>\n",
       "    </tr>\n",
       "    <tr>\n",
       "      <th>2</th>\n",
       "      <td>소북_생태통로_001_너구리_20190806_2004 (2) 07</td>\n",
       "      <td>0.998</td>\n",
       "      <td>[1]</td>\n",
       "      <td>[0.998]</td>\n",
       "      <td>[[0.5401, 0.3977, 0.08631, 0.228]]</td>\n",
       "    </tr>\n",
       "    <tr>\n",
       "      <th>3</th>\n",
       "      <td>멧돼지 20190627 1540 7(새끼6) 13</td>\n",
       "      <td>0.938</td>\n",
       "      <td>[1]</td>\n",
       "      <td>[0.938]</td>\n",
       "      <td>[[0.5857, 0.4113, 0.07176, 0.05283]]</td>\n",
       "    </tr>\n",
       "    <tr>\n",
       "      <th>4</th>\n",
       "      <td>설악_생태통로_080_너구리_20191010_0059 09</td>\n",
       "      <td>0.000</td>\n",
       "      <td>NaN</td>\n",
       "      <td>NaN</td>\n",
       "      <td>NaN</td>\n",
       "    </tr>\n",
       "  </tbody>\n",
       "</table>\n",
       "</div>"
      ],
      "text/plain": [
       "                              file_name  max_conf category     conf  \\\n",
       "0   소북_생태통로_001_멧돼지_20191107_2303 새끼 02     0.919      [1]  [0.919]   \n",
       "1      소북_생태통로_001_고라니_20190808_1521 08     0.981      [1]  [0.981]   \n",
       "2  소북_생태통로_001_너구리_20190806_2004 (2) 07     0.998      [1]  [0.998]   \n",
       "3           멧돼지 20190627 1540 7(새끼6) 13     0.938      [1]  [0.938]   \n",
       "4      설악_생태통로_080_너구리_20191010_0059 09     0.000      NaN      NaN   \n",
       "\n",
       "                                   bbox  \n",
       "0  [[0.5313, 0.5207, 0.02388, 0.07787]]  \n",
       "1    [[0.02443, 0.4087, 0.142, 0.2411]]  \n",
       "2    [[0.5401, 0.3977, 0.08631, 0.228]]  \n",
       "3  [[0.5857, 0.4113, 0.07176, 0.05283]]  \n",
       "4                                   NaN  "
      ]
     },
     "execution_count": 18,
     "metadata": {},
     "output_type": "execute_result"
    }
   ],
   "source": [
    "print(df.shape)\n",
    "pprint(df.info())\n",
    "df.head()"
   ]
  },
  {
   "cell_type": "code",
   "execution_count": 19,
   "metadata": {},
   "outputs": [
    {
     "data": {
      "text/html": [
       "<div>\n",
       "<style scoped>\n",
       "    .dataframe tbody tr th:only-of-type {\n",
       "        vertical-align: middle;\n",
       "    }\n",
       "\n",
       "    .dataframe tbody tr th {\n",
       "        vertical-align: top;\n",
       "    }\n",
       "\n",
       "    .dataframe thead th {\n",
       "        text-align: right;\n",
       "    }\n",
       "</style>\n",
       "<table border=\"1\" class=\"dataframe\">\n",
       "  <thead>\n",
       "    <tr style=\"text-align: right;\">\n",
       "      <th></th>\n",
       "      <th>file_name</th>\n",
       "      <th>max_conf</th>\n",
       "      <th>category</th>\n",
       "      <th>conf</th>\n",
       "      <th>bbox</th>\n",
       "    </tr>\n",
       "  </thead>\n",
       "  <tbody>\n",
       "    <tr>\n",
       "      <th>31449</th>\n",
       "      <td>0322 너구리 01</td>\n",
       "      <td>0.999</td>\n",
       "      <td>[1]</td>\n",
       "      <td>[0.999]</td>\n",
       "      <td>[[0.3983, 0.738, 0.2246, 0.196]]</td>\n",
       "    </tr>\n",
       "    <tr>\n",
       "      <th>32791</th>\n",
       "      <td>0322 너구리 02</td>\n",
       "      <td>0.999</td>\n",
       "      <td>[1]</td>\n",
       "      <td>[0.999]</td>\n",
       "      <td>[[0.398, 0.7384, 0.2246, 0.1944]]</td>\n",
       "    </tr>\n",
       "    <tr>\n",
       "      <th>55365</th>\n",
       "      <td>0322 너구리 03</td>\n",
       "      <td>0.999</td>\n",
       "      <td>[1]</td>\n",
       "      <td>[0.999]</td>\n",
       "      <td>[[0.4189, 0.7133, 0.2404, 0.2192]]</td>\n",
       "    </tr>\n",
       "    <tr>\n",
       "      <th>1359</th>\n",
       "      <td>0322 너구리 04</td>\n",
       "      <td>0.999</td>\n",
       "      <td>[1]</td>\n",
       "      <td>[0.999]</td>\n",
       "      <td>[[0.4373, 0.7272, 0.165, 0.2061]]</td>\n",
       "    </tr>\n",
       "    <tr>\n",
       "      <th>8133</th>\n",
       "      <td>0322 너구리 05</td>\n",
       "      <td>0.999</td>\n",
       "      <td>[1]</td>\n",
       "      <td>[0.999]</td>\n",
       "      <td>[[0.4975, 0.7131, 0.09413, 0.1703]]</td>\n",
       "    </tr>\n",
       "    <tr>\n",
       "      <th>...</th>\n",
       "      <td>...</td>\n",
       "      <td>...</td>\n",
       "      <td>...</td>\n",
       "      <td>...</td>\n",
       "      <td>...</td>\n",
       "    </tr>\n",
       "    <tr>\n",
       "      <th>7786</th>\n",
       "      <td>하늘다람쥐170103 0628 39</td>\n",
       "      <td>0.000</td>\n",
       "      <td>NaN</td>\n",
       "      <td>NaN</td>\n",
       "      <td>NaN</td>\n",
       "    </tr>\n",
       "    <tr>\n",
       "      <th>7043</th>\n",
       "      <td>하늘다람쥐170103 0628 40</td>\n",
       "      <td>0.000</td>\n",
       "      <td>NaN</td>\n",
       "      <td>NaN</td>\n",
       "      <td>NaN</td>\n",
       "    </tr>\n",
       "    <tr>\n",
       "      <th>12837</th>\n",
       "      <td>하늘다람쥐170103 0628 41</td>\n",
       "      <td>0.000</td>\n",
       "      <td>NaN</td>\n",
       "      <td>NaN</td>\n",
       "      <td>NaN</td>\n",
       "    </tr>\n",
       "    <tr>\n",
       "      <th>21866</th>\n",
       "      <td>흰배지빠귀 20190501 0818</td>\n",
       "      <td>0.999</td>\n",
       "      <td>[1]</td>\n",
       "      <td>[0.999]</td>\n",
       "      <td>[[0.4533, 0.5306, 0.2459, 0.3038]]</td>\n",
       "    </tr>\n",
       "    <tr>\n",
       "      <th>45171</th>\n",
       "      <td>흰배지빠귀 20190504 0646</td>\n",
       "      <td>0.998</td>\n",
       "      <td>[1]</td>\n",
       "      <td>[0.998]</td>\n",
       "      <td>[[0.295, 0.5621, 0.4913, 0.4065]]</td>\n",
       "    </tr>\n",
       "  </tbody>\n",
       "</table>\n",
       "<p>60234 rows × 5 columns</p>\n",
       "</div>"
      ],
      "text/plain": [
       "                 file_name  max_conf category     conf  \\\n",
       "31449          0322 너구리 01     0.999      [1]  [0.999]   \n",
       "32791          0322 너구리 02     0.999      [1]  [0.999]   \n",
       "55365          0322 너구리 03     0.999      [1]  [0.999]   \n",
       "1359           0322 너구리 04     0.999      [1]  [0.999]   \n",
       "8133           0322 너구리 05     0.999      [1]  [0.999]   \n",
       "...                    ...       ...      ...      ...   \n",
       "7786   하늘다람쥐170103 0628 39     0.000      NaN      NaN   \n",
       "7043   하늘다람쥐170103 0628 40     0.000      NaN      NaN   \n",
       "12837  하늘다람쥐170103 0628 41     0.000      NaN      NaN   \n",
       "21866  흰배지빠귀 20190501 0818     0.999      [1]  [0.999]   \n",
       "45171  흰배지빠귀 20190504 0646     0.998      [1]  [0.998]   \n",
       "\n",
       "                                      bbox  \n",
       "31449     [[0.3983, 0.738, 0.2246, 0.196]]  \n",
       "32791    [[0.398, 0.7384, 0.2246, 0.1944]]  \n",
       "55365   [[0.4189, 0.7133, 0.2404, 0.2192]]  \n",
       "1359     [[0.4373, 0.7272, 0.165, 0.2061]]  \n",
       "8133   [[0.4975, 0.7131, 0.09413, 0.1703]]  \n",
       "...                                    ...  \n",
       "7786                                   NaN  \n",
       "7043                                   NaN  \n",
       "12837                                  NaN  \n",
       "21866   [[0.4533, 0.5306, 0.2459, 0.3038]]  \n",
       "45171    [[0.295, 0.5621, 0.4913, 0.4065]]  \n",
       "\n",
       "[60234 rows x 5 columns]"
      ]
     },
     "execution_count": 19,
     "metadata": {},
     "output_type": "execute_result"
    }
   ],
   "source": [
    "df=df.sort_values('file_name')\n",
    "df"
   ]
  },
  {
   "cell_type": "markdown",
   "metadata": {},
   "source": [
    "###### 데이터프레임을 csv파일로 저장"
   ]
  },
  {
   "cell_type": "code",
   "execution_count": 20,
   "metadata": {},
   "outputs": [],
   "source": [
    "# df.to_csv('json.csv', header=True, index=False) # 칼럼명은 남기고 인덱스는 버림"
   ]
  },
  {
   "cell_type": "markdown",
   "metadata": {},
   "source": [
    "## 라벨링"
   ]
  },
  {
   "cell_type": "code",
   "execution_count": 49,
   "metadata": {},
   "outputs": [
    {
     "name": "stdout",
     "output_type": "stream",
     "text": [
      "받은 사진 데이터 총 개수 : 28191개\n",
      "받은 멧돼지 사진 데이터 개수 : 28191개\n",
      "받은 멧돼지 사진 데이터 중 멧돼지 라벨링이 되어있는 데이터 개수 : 12665개\n"
     ]
    }
   ],
   "source": [
    "# 멧돼지 데이터만 추출\n",
    "wildboar=df[df.file_name.str.contains('멧돼지')]\n",
    "print(f'받은 사진 데이터 총 개수 : {len(wildboar)}개')\n",
    "print(f'받은 멧돼지 사진 데이터 개수 : {len(wildboar)}개')\n",
    "print(f'받은 멧돼지 사진 데이터 중 멧돼지 라벨링이 되어있는 데이터 개수 : {len(wildboar.dropna())}개')"
   ]
  },
  {
   "cell_type": "code",
   "execution_count": 50,
   "metadata": {},
   "outputs": [
    {
     "name": "stdout",
     "output_type": "stream",
     "text": [
      "받은 사진 데이터 총 개수 : 17339개\n",
      "받은 멧돼지 사진 데이터 개수 : 17339개\n",
      "받은 멧돼지 사진 데이터 중 멧돼지 라벨링이 되어있는 데이터 개수 : 11759개\n"
     ]
    }
   ],
   "source": [
    "# 고라니 데이터만 추출\n",
    "gorani=df[df.file_name.str.contains('고라니')]\n",
    "print(f'받은 사진 데이터 총 개수 : {len(gorani)}개')\n",
    "print(f'받은 멧돼지 사진 데이터 개수 : {len(gorani)}개')\n",
    "print(f'받은 멧돼지 사진 데이터 중 멧돼지 라벨링이 되어있는 데이터 개수 : {len(gorani.dropna())}개')"
   ]
  },
  {
   "cell_type": "code",
   "execution_count": 51,
   "metadata": {},
   "outputs": [],
   "source": [
    "# na 제거\n",
    "wildboar=wildboar.dropna().reset_index().drop('index', axis=1)\n",
    "gorani=gorani.dropna().reset_index().drop('index', axis=1)"
   ]
  },
  {
   "cell_type": "code",
   "execution_count": 55,
   "metadata": {},
   "outputs": [
    {
     "name": "stdout",
     "output_type": "stream",
     "text": [
      "0 0.5198 0.4216 0.1715 0.1715\n",
      "0 0.5058 0.3662 0.06482 0.2542\n",
      "0 0.3491 0.4037 0.182 0.2525\n",
      "0 0.3425 0.4159 0.1941 0.2267\n",
      "0 0.4292 0.4053 0.1741 0.2186\n",
      "0 0.4823 0.3853 0.214 0.2242\n",
      "0 0.6716 0.3586 0.1965 0.2249\n",
      "0 0.6087 0.418 0.1632 0.17\n",
      "0 0.862 0.3405 0.1354 0.2098\n",
      "0 0.4712 0.4204 0.1463 0.1851\n"
     ]
    }
   ],
   "source": [
    "# sample\n",
    "for i in range(10): #10개만\n",
    "    if wildboar.bbox[i]!=wildboar.bbox[i]: # wildboar.bbox가 존재하지 않으면\n",
    "        pass\n",
    "    else: #wildboar.bbox가 존재하면\n",
    "        for j in range(len(wildboar.bbox[i])): # 박스 개수만큼\n",
    "            s='0' # 라벨링 카테고리\n",
    "            for k in range(len(wildboar.bbox[i][j])): # bbox 좌표 4개 반복문\n",
    "                s+=' '\n",
    "                s+=str(wildboar.bbox[i][j][k])\n",
    "            if j==0: # 박스가 하나면\n",
    "                st=s\n",
    "            else: # 박스가 둘 이상이면\n",
    "                st+='\\n'\n",
    "                st+=s\n",
    "        print(st)"
   ]
  },
  {
   "cell_type": "code",
   "execution_count": 56,
   "metadata": {},
   "outputs": [
    {
     "name": "stdout",
     "output_type": "stream",
     "text": [
      "0 0.549 0.4421 0.04337 0.1319\n",
      "0 0.5068 0.4416 0.08403 0.14\n"
     ]
    }
   ],
   "source": [
    "# bbox 두 개인 경우\n",
    "i=15\n",
    "for j in range(len(wildboar.bbox[i])): # 박스 개수만큼\n",
    "    s='0' # 라벨링 카테고리\n",
    "    for k in range(len(wildboar.bbox[i][j])): # bbox 좌표 4개 반복문\n",
    "        s+=' '\n",
    "        s+=str(wildboar.bbox[i][j][k])\n",
    "    if j==0: # 박스가 하나면\n",
    "        st=s\n",
    "    else: # 박스가 둘 이상이면\n",
    "        st+='\\n'\n",
    "        st+=s\n",
    "print(st)"
   ]
  },
  {
   "cell_type": "code",
   "execution_count": 59,
   "metadata": {},
   "outputs": [],
   "source": [
    "os.mkdir('test_test')"
   ]
  },
  {
   "cell_type": "code",
   "execution_count": null,
   "metadata": {},
   "outputs": [],
   "source": [
    "# # 라벨링 최종 ver멧돼지\n",
    "# os.makedirs('label_wildboar', exist_ok=True) # 폴더 생성\n",
    "# for i in range(len(wildboar)):\n",
    "#     if wildboar.bbox[i]!=wildboar.bbox[i]: # wildboar.bbox가 존재하지 않으면\n",
    "#         pass\n",
    "#     else: #wildboar.bbox가 존재하면\n",
    "#         for j in range(len(wildboar.bbox[i])): # 박스 개수만큼\n",
    "#             s='0' # 라벨링 카테고리 멧돼지:0, 고라니:1\n",
    "#             for k in range(len(wildboar.bbox[i][j])): # bbox 좌표 4개 반복문\n",
    "#                 s+=' '\n",
    "#                 s+=str(wildboar.bbox[i][j][k])\n",
    "#             if j==0: # 박스가 하나면\n",
    "#                 st=s\n",
    "#             else: # 박스가 둘 이상이면\n",
    "#                 st+='\\n'\n",
    "#                 st+=s\n",
    "#             with open('label_wildboar/'+sample.file_name[i]+'.txt', 'w') as f: # txt파일로 저장\n",
    "#                 f.write(st)"
   ]
  },
  {
   "cell_type": "code",
   "execution_count": null,
   "metadata": {},
   "outputs": [],
   "source": [
    "# # ver 고라니\n",
    "# os.makedirs('label_gorani', exist_ok=True) # 폴더 생성\n",
    "# for i in range(len(gorani)):\n",
    "#     if gorani.bbox[i]!=gorani.bbox[i]: # gorani.bbox가 존재하지 않으면\n",
    "#         pass\n",
    "#     else: # gorani.bbox가 존재하면\n",
    "#         for j in range(len(gorani.bbox[i])): # 박스 개수만큼\n",
    "#             s=' 1' # 라벨링 카테고리 멧돼지:0, 고라니:1\n",
    "#             for k in range(len(gorani.bbox[i][j])): # bbox 좌표 4개 반복문\n",
    "#                 s+=' '\n",
    "#                 s+=str(gorani.bbox[i][j][k])\n",
    "#             if j==0: # 박스가 하나면\n",
    "#                 st=s\n",
    "#             else: # 박스가 둘 이상이면\n",
    "#                 st+='\\n'\n",
    "#                 st+=s\n",
    "#             with open('label_gorani/'+sample.file_name[i]+'.txt', 'w') as f: # txt파일로 저장\n",
    "#                 f.write(st)"
   ]
  },
  {
   "cell_type": "markdown",
   "metadata": {},
   "source": [
    "## 라벨링이 되어있는 사진만 남기기\n",
    "+ image_wildboar 폴더와\n",
    "+ image_gorani 폴더가 존재하는 경우 시행"
   ]
  },
  {
   "cell_type": "code",
   "execution_count": 70,
   "metadata": {},
   "outputs": [
    {
     "name": "stdout",
     "output_type": "stream",
     "text": [
      "9197\n",
      "<class 'list'>\n",
      "['image_wildboar/1-멧돼지 2마리-하 01.jpg', 'image_wildboar/1-멧돼지 2마리-하 02.jpg']\n"
     ]
    }
   ],
   "source": [
    "jpg_list_wildboar=glob('image_wildboar/*.jpg') # 멧돼지 사진 목록 불러오기\n",
    "for i in range(len(jpg_list_wildboar)):\n",
    "    jpg_list_wildboar[i]=jpg_list_wildboar[i].replace('\\\\','/') # 역슬래시 슬래시로 통일\n",
    "print(len(jpg_list_wildboar))\n",
    "print(type(jpg_list_wildboar))\n",
    "print(jpg_list_wildboar[0:2])\n",
    "# 실제로는 28191개"
   ]
  },
  {
   "cell_type": "code",
   "execution_count": 73,
   "metadata": {},
   "outputs": [
    {
     "data": {
      "text/plain": [
       "'소북_생태통로_001_멧돼지_20190925_0622 (1) 03'"
      ]
     },
     "execution_count": 73,
     "metadata": {},
     "output_type": "execute_result"
    }
   ],
   "source": [
    "jpg_list_wildboar[4522][15:-4] # 샘플 확인"
   ]
  },
  {
   "cell_type": "code",
   "execution_count": 74,
   "metadata": {},
   "outputs": [
    {
     "data": {
      "text/plain": [
       "'소북_생태통로_001_멧돼지_20190802_1942-51 5(새끼4) (2) 05'"
      ]
     },
     "execution_count": 74,
     "metadata": {},
     "output_type": "execute_result"
    }
   ],
   "source": [
    "for i in range(len(jpg_list_wildboar)): \n",
    "    jpg_list_wildboar[i]=jpg_list_wildboar[i][15:-4] # 경로&확장자 제거\n",
    "jpg_list_wildboar[3385]"
   ]
  },
  {
   "cell_type": "code",
   "execution_count": 80,
   "metadata": {},
   "outputs": [
    {
     "name": "stdout",
     "output_type": "stream",
     "text": [
      "12665\n",
      "<class 'list'>\n",
      "['label_wildboar/1-경계하며 이동하는 멧돼지-상 07.txt', 'label_wildboar/1-달리는멧돼지-하 18.txt']\n"
     ]
    }
   ],
   "source": [
    "txt_list_wildboar=glob('label_wildboar/*.txt') # 멧돼지 라벨 목록 불러오기\n",
    "for i in range(len(txt_list_wildboar)):\n",
    "    txt_list_wildboar[i]=txt_list_wildboar[i].replace('\\\\','/') # 역슬래시 슬래시로 통일\n",
    "print(len(txt_list_wildboar))\n",
    "print(type(txt_list_wildboar))\n",
    "print(txt_list_wildboar[0:2])"
   ]
  },
  {
   "cell_type": "code",
   "execution_count": 81,
   "metadata": {},
   "outputs": [
    {
     "data": {
      "text/plain": [
       "'1-멧돼지-하 (6) 06'"
      ]
     },
     "execution_count": 81,
     "metadata": {},
     "output_type": "execute_result"
    }
   ],
   "source": [
    "txt_list_wildboar[42][15:-4] # 샘플 확인"
   ]
  },
  {
   "cell_type": "code",
   "execution_count": 82,
   "metadata": {},
   "outputs": [
    {
     "data": {
      "text/plain": [
       "'5-멧돼지-1 04'"
      ]
     },
     "execution_count": 82,
     "metadata": {},
     "output_type": "execute_result"
    }
   ],
   "source": [
    "for i in range(len(txt_list_wildboar)):\n",
    "    txt_list_wildboar[i]=txt_list_wildboar[i][15:-4] # 경로&확장자 제거\n",
    "txt_list_wildboar[335]"
   ]
  },
  {
   "cell_type": "code",
   "execution_count": null,
   "metadata": {},
   "outputs": [],
   "source": [
    "# for i in range(len(jpg_list_wildboar)):\n",
    "#     if jpg_list_wildboar[i] not in txt_list_wildboar: # 멧돼지 사진 파일이름이 라벨링되어있지 않으면\n",
    "#         os.remove(jpg_list_wildboar[i]) # 사진 파일 삭제"
   ]
  },
  {
   "cell_type": "code",
   "execution_count": 89,
   "metadata": {},
   "outputs": [
    {
     "name": "stdout",
     "output_type": "stream",
     "text": [
      "10526\n",
      "<class 'list'>\n",
      "['image_gorani/1-고라니 (2) 01.jpg', 'image_gorani/1-고라니 (2) 02.jpg']\n",
      "11759\n",
      "<class 'list'>\n",
      "['label_gorani/1-고라니 (2) 01.txt', 'label_gorani/1-고라니 (2) 02.txt']\n"
     ]
    }
   ],
   "source": [
    "jpg_list_gorani=glob('image_gorani/*.jpg') # 고라니 사진 목록 불러오기\n",
    "for i in range(len(jpg_list_gorani)):\n",
    "    jpg_list_gorani[i]=jpg_list_gorani[i].replace('\\\\','/') # 역슬래시 슬래시로 통일\n",
    "print(len(jpg_list_gorani))\n",
    "print(type(jpg_list_gorani))\n",
    "print(jpg_list_gorani[0:2])\n",
    "# 실제로는 17339개\n",
    "txt_list_gorani=glob('label_gorani/*.txt') # 고라니 라벨 목록 불러오기\n",
    "for i in range(len(txt_list_gorani)):\n",
    "    txt_list_gorani[i]=txt_list_gorani[i].replace('\\\\','/') # 역슬래시 슬래시로 통일\n",
    "print(len(txt_list_gorani))\n",
    "print(type(txt_list_gorani))\n",
    "print(txt_list_gorani[0:2])"
   ]
  },
  {
   "cell_type": "code",
   "execution_count": 91,
   "metadata": {},
   "outputs": [
    {
     "name": "stdout",
     "output_type": "stream",
     "text": [
      "1-주변을 경계하는 고라니-상 12\n",
      "5-고라니 (2) 08\n"
     ]
    }
   ],
   "source": [
    "# 샘플 확인\n",
    "print(jpg_list_gorani[78][13:-4])\n",
    "print(txt_list_gorani[500][13:-4])"
   ]
  },
  {
   "cell_type": "code",
   "execution_count": 92,
   "metadata": {},
   "outputs": [
    {
     "name": "stdout",
     "output_type": "stream",
     "text": [
      "고라니 190408 0500-03 (1) 09\n",
      "3-고라니-하 (2) 04\n"
     ]
    }
   ],
   "source": [
    "# 경로&확장자 제거\n",
    "for i in range(len(jpg_list_gorani)): \n",
    "    jpg_list_gorani[i]=jpg_list_gorani[i][13:-4]\n",
    "print(jpg_list_gorani[775])\n",
    "for i in range(len(txt_list_gorani)):\n",
    "    txt_list_gorani[i]=txt_list_gorani[i][13:-4]\n",
    "print(txt_list_gorani[395])"
   ]
  },
  {
   "cell_type": "code",
   "execution_count": null,
   "metadata": {},
   "outputs": [],
   "source": [
    "# for i in range(len(jpg_list_gorani)):\n",
    "#     if jpg_list_gorani[i] not in txt_list_gorani: # 멧돼지 사진 파일이름이 라벨링되어있지 않으면\n",
    "#         os.remove(jpg_list_gorani[i]) # 사진 파일 삭제"
   ]
  },
  {
   "cell_type": "markdown",
   "metadata": {},
   "source": [
    "## 사진과 bbox 띄우기"
   ]
  },
  {
   "cell_type": "markdown",
   "metadata": {},
   "source": [
    "#### 포맷 확인"
   ]
  },
  {
   "cell_type": "code",
   "execution_count": 103,
   "metadata": {},
   "outputs": [],
   "source": [
    "#practice MegaDetector\n",
    "i=4522\n",
    "img_array = np.fromfile('image_wildboar/'+jpg_list_wildboar[i]+'.jpg', np.uint8) # 한글제목을 불러오기 위한 디코딩\n",
    "img = cv2.imdecode(img_array, cv2.IMREAD_COLOR)\n",
    "fy, fx, _ = img.shape # 사진 크기값 받아오기\n",
    "x,y,w,h = 0.4747, 0.2639, 0.4307, 0.4169\n",
    "x1=round(x*fx)\n",
    "x2=round((x+w)*fx)\n",
    "y1=round(y*fy)\n",
    "y2=round((y+h)*fy)\n",
    "cv2.rectangle(img, (x1,y1), (x2,y2), (0,0,255), 5) # 네모 사진 그리기, 사진(img)에 좌표 두개를 이용한 사각형, bgr칼라, 두께\n",
    "cv2.imshow(str(i), img)\n",
    "cv2.waitKey()\n",
    "cv2.destroyAllWindows()"
   ]
  },
  {
   "cell_type": "code",
   "execution_count": 97,
   "metadata": {},
   "outputs": [],
   "source": [
    "#practice YOLOv5\n",
    "i=4522 \n",
    "img_array = np.fromfile('image_wildboar/'+jpg_list_wildboar[i]+'.jpg', np.uint8)\n",
    "img = cv2.imdecode(img_array, cv2.IMREAD_COLOR)\n",
    "fy, fx, _ = img.shape\n",
    "x,y,w,h = 0.4747, 0.2639, 0.4307, 0.4169\n",
    "x1=round((x-0.5*w)*fx)\n",
    "x2=round((x+0.5*w)*fx)\n",
    "y1=round((y-0.5*h)*fy)\n",
    "y2=round((y+0.5*h)*fy)\n",
    "cv2.rectangle(img, (x1,y1), (x2,y2), (0,0,255),5)\n",
    "cv2.imshow(str(i), img)\n",
    "cv2.waitKey()\n",
    "cv2.destroyAllWindows()"
   ]
  },
  {
   "cell_type": "code",
   "execution_count": 98,
   "metadata": {},
   "outputs": [
    {
     "name": "stdout",
     "output_type": "stream",
     "text": [
      "0.690234375 0.4722222222222222 0.43046875 0.4166666666666667\n"
     ]
    }
   ],
   "source": [
    "#practice YOLOv5 좌표얻기\n",
    "i=4522 \n",
    "img_array = np.fromfile('image_wildboar/'+jpg_list_wildboar[i]+'.jpg', np.uint8)\n",
    "img = cv2.imdecode(img_array, cv2.IMREAD_COLOR)\n",
    "fy, fx, _ = img.shape\n",
    "x,y,w,h = 0.4747, 0.2639, 0.4307, 0.4169\n",
    "x1=round(x*fx)\n",
    "x2=round((x+w)*fx)\n",
    "y1=round(y*fy)\n",
    "y2=round((y+h)*fy)\n",
    "x=(x2+x1)/(2*fx)\n",
    "y=(y2+y1)/(2*fy)\n",
    "w=(x2-x1)/fx\n",
    "h=(y2-y1)/fy\n",
    "print(x,y,w,h)"
   ]
  },
  {
   "cell_type": "code",
   "execution_count": 104,
   "metadata": {},
   "outputs": [],
   "source": [
    "#practice YOLOv5\n",
    "i=4522 \n",
    "img_array = np.fromfile('image_wildboar/'+jpg_list_wildboar[i]+'.jpg', np.uint8) \n",
    "img = cv2.imdecode(img_array, cv2.IMREAD_COLOR)\n",
    "fy, fx, _ = img.shape\n",
    "x,y,w,h = 0.6902, 0.4722, 0.4305, 0.4167\n",
    "x1=round((x-0.5*w)*fx)\n",
    "x2=round((x+0.5*w)*fx)\n",
    "y1=round((y-0.5*h)*fy)\n",
    "y2=round((y+0.5*h)*fy)\n",
    "cv2.rectangle(img, (x1,y1), (x2,y2), (0,0,255),5)\n",
    "cv2.imshow(str(i), img)\n",
    "cv2.waitKey()\n",
    "cv2.destroyAllWindows()"
   ]
  },
  {
   "cell_type": "markdown",
   "metadata": {},
   "source": [
    "#### 좌표값을 텍스트 파일에서 직접 불러오기"
   ]
  },
  {
   "cell_type": "code",
   "execution_count": 106,
   "metadata": {},
   "outputs": [],
   "source": [
    "#practice ver\n",
    "i=4522\n",
    "img_array = np.fromfile('image_wildboar/'+jpg_list_wildboar[i]+'.jpg', np.uint8) # 한글제목을 불러오기 위한 디코딩\n",
    "img = cv2.imdecode(img_array, cv2.IMREAD_COLOR)\n",
    "fy, fx, _ = img.shape # 사진 크기 불러오기, 칼라여부는 안받아옴\n",
    "with open('label_wildboar/'+jpg_list_wildboar[i]+'.txt', 'r') as f: # 텍스트파일 불러오기\n",
    "    code=f.read().split('\\n')\n",
    "for j in range(len(code)):\n",
    "    _,x,y,w,h=code[j].split(' ') # 처음은 카테고리라 안받아옴\n",
    "    x=float(x); y=float(y); w=float(w); h=float(h)\n",
    "    x1=round(-fx/2*w+fx*x)\n",
    "    x2=round(fx/2*w+fx*x)\n",
    "    y1=round(-fy/2*h+fy*y)\n",
    "    y2=round(fy/2*h+fy*y)\n",
    "    cv2.rectangle(img, (x1,y1), (x2,y2), (0,0,255),5)\n",
    "cv2.imshow(str(i), img)\n",
    "cv2.waitKey()\n",
    "cv2.destroyAllWindows()"
   ]
  },
  {
   "cell_type": "code",
   "execution_count": 113,
   "metadata": {},
   "outputs": [
    {
     "name": "stdout",
     "output_type": "stream",
     "text": [
      "소북_생태통로_001_멧돼지_20190925_0622 (1) 08.jpg 까지 확인하였습니다.\n",
      "소북_생태통로_001_멧돼지_20190925_0622 (1) 08.jpg 는 4527번째이므로 다음에 돌리면 start값을 4528로 주세요\n"
     ]
    }
   ],
   "source": [
    "# pro ver\n",
    "# p를 누르면 다음사진 | press 'p' means show next sccne\n",
    "# b를 누르면 이전사진 | press 'b' means show before scene\n",
    "# r을 누르면 이상한 사진목록 세이브 | press 'r' means record strange scene name\n",
    "# q를 누르면 종료 | press 'q' means quit system\n",
    "start=4522\n",
    "strange_list=[]\n",
    "i=start\n",
    "while i<len(jpg_list_wildboar): # 사진갯수만큼 프로그램 돌림\n",
    "    img_array = np.fromfile('image_wildboar/'+jpg_list_wildboar[i]+'.jpg', np.uint8) #한글명 디코딩\n",
    "    img = cv2.imdecode(img_array, cv2.IMREAD_COLOR)\n",
    "    fy, fx, _ = img.shape # 사진크기 받아옴, 칼라여부 안받음\n",
    "    with open('label_wildboar/'+jpg_list_wildboar[i]+'.txt', 'r') as f: # 라벨링 txt파일 불러옴\n",
    "        code=f.read().split('\\n')\n",
    "    for j in range(len(code)): # bbox가 두개 이상일 경우를 위해 반복문\n",
    "        _,x,y,w,h=code[j].split(' ') # 카테고리 안받음\n",
    "        x=float(x); y=float(y); w=float(w); h=float(h)\n",
    "        x1=round(-fx/2*w+fx*x)\n",
    "        x2=round(fx/2*w+fx*x)\n",
    "        y1=round(-fy/2*h+fy*y)\n",
    "        y2=round(fy/2*h+fy*y) # CV2 포맷\n",
    "        cv2.rectangle(img, (x1,y1), (x2,y2), (0,0,255), 5)\n",
    "    cv2.imshow(str(i), img) # 사진띄우기; 제목, 사진\n",
    "    cv2.moveWindow(str(i),-16,-31) # 창 위치 조절\n",
    "    key=cv2.waitKey()\n",
    "    if key == ord('q'): # q 누르면 종료\n",
    "        break\n",
    "    if key == ord('r'): # r 누르면 저장하고 다음 사진\n",
    "        strange_list.append(jpg_list_wildboar[i]+'.jpg')\n",
    "        i+=1\n",
    "        cv2.destroyAllWindows()\n",
    "    if key == ord('p'): # p 누르면 다음 사진\n",
    "        i+=1\n",
    "        cv2.destroyAllWindows()\n",
    "    if key == ord('b'): # b 누르면 이전 사진\n",
    "        i-=1\n",
    "        cv2.destroyAllWindows()\n",
    "    cv2.destroyAllWindows()\n",
    "cv2.destroyAllWindows()\n",
    "print(jpg_list_wildboar[i],'.jpg 까지 확인하였습니다.', sep='')\n",
    "print(jpg_list_wildboar[i], f'.jpg 는 {i}번째이므로 다음에 돌리면 start값을 {i+1}로 주세요', sep='')"
   ]
  },
  {
   "cell_type": "code",
   "execution_count": 114,
   "metadata": {},
   "outputs": [],
   "source": [
    "# 저장된 이상한 사진 분리\n",
    "s=''\n",
    "for i in range(len(strange_list)):\n",
    "    s+=strange_list[i]\n",
    "    s+='\\n'\n",
    "# strange_wildboar.txt로 목록 저장\n",
    "with open('strange_wildboar.txt', 'a') as f:\n",
    "    f.write(s)"
   ]
  },
  {
   "cell_type": "code",
   "execution_count": null,
   "metadata": {},
   "outputs": [],
   "source": [
    "# strange_wildboar.txt의 파일명 다 불러와서 file_list로 저장\n",
    "with open('strange_wildboar.txt', 'r') as f:\n",
    "    file_list=f.read().split('\\n')"
   ]
  },
  {
   "cell_type": "code",
   "execution_count": 119,
   "metadata": {},
   "outputs": [
    {
     "data": {
      "text/plain": [
       "'C:\\\\Users\\\\tripleler\\\\python\\\\NationalPark_Project\\\\image_wildboar'"
      ]
     },
     "execution_count": 119,
     "metadata": {},
     "output_type": "execute_result"
    }
   ],
   "source": [
    "os.chdir('image_wildboar/')\n",
    "os.getcwd()"
   ]
  },
  {
   "cell_type": "code",
   "execution_count": 115,
   "metadata": {},
   "outputs": [
    {
     "data": {
      "text/plain": [
       "'소북_생태통로_001_멧돼지_20190925_0622 (1) 06.jpg\\n소북_생태통로_001_멧돼지_20190925_0622 (1) 07.jpg\\n'"
      ]
     },
     "execution_count": 115,
     "metadata": {},
     "output_type": "execute_result"
    }
   ],
   "source": [
    "# # 해당 사진 제거\n",
    "# # 제거 전 디렉토리 변결할것!!\n",
    "# for i in range(len(file_list)):\n",
    "#     os.remove(file_list[i])"
   ]
  }
 ],
 "metadata": {
  "kernelspec": {
   "display_name": "Python 3 (ipykernel)",
   "language": "python",
   "name": "python3"
  },
  "language_info": {
   "codemirror_mode": {
    "name": "ipython",
    "version": 3
   },
   "file_extension": ".py",
   "mimetype": "text/x-python",
   "name": "python",
   "nbconvert_exporter": "python",
   "pygments_lexer": "ipython3",
   "version": "3.9.7"
  },
  "toc": {
   "base_numbering": 1,
   "nav_menu": {},
   "number_sections": true,
   "sideBar": true,
   "skip_h1_title": false,
   "title_cell": "Table of Contents",
   "title_sidebar": "Contents",
   "toc_cell": false,
   "toc_position": {},
   "toc_section_display": true,
   "toc_window_display": false
  },
  "varInspector": {
   "cols": {
    "lenName": 16,
    "lenType": 16,
    "lenVar": 40
   },
   "kernels_config": {
    "python": {
     "delete_cmd_postfix": "",
     "delete_cmd_prefix": "del ",
     "library": "var_list.py",
     "varRefreshCmd": "print(var_dic_list())"
    },
    "r": {
     "delete_cmd_postfix": ") ",
     "delete_cmd_prefix": "rm(",
     "library": "var_list.r",
     "varRefreshCmd": "cat(var_dic_list()) "
    }
   },
   "types_to_exclude": [
    "module",
    "function",
    "builtin_function_or_method",
    "instance",
    "_Feature"
   ],
   "window_display": false
  }
 },
 "nbformat": 4,
 "nbformat_minor": 4
}
