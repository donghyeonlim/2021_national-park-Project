{
 "cells": [
  {
   "cell_type": "code",
   "execution_count": 1,
   "id": "f2afa477",
   "metadata": {
    "ExecuteTime": {
     "end_time": "2021-10-31T15:05:42.441949Z",
     "start_time": "2021-10-31T15:05:42.427970Z"
    }
   },
   "outputs": [],
   "source": [
    "from glob import glob\n",
    "import os"
   ]
  },
  {
   "cell_type": "code",
   "execution_count": 2,
   "id": "90429baa",
   "metadata": {
    "ExecuteTime": {
     "end_time": "2021-10-31T15:05:43.710641Z",
     "start_time": "2021-10-31T15:05:43.597150Z"
    }
   },
   "outputs": [],
   "source": [
    "jpg_list_wildboar = glob('image_wildboar/*.jpg')\n",
    "txt_list_wildboar = glob('label_wildboar/*.txt')"
   ]
  },
  {
   "cell_type": "code",
   "execution_count": 3,
   "id": "44fa3c1e",
   "metadata": {
    "ExecuteTime": {
     "end_time": "2021-10-31T15:05:44.684278Z",
     "start_time": "2021-10-31T15:05:44.666327Z"
    }
   },
   "outputs": [
    {
     "name": "stdout",
     "output_type": "stream",
     "text": [
      "12453\n",
      "12453\n"
     ]
    }
   ],
   "source": [
    "print(len(jpg_list_wildboar))\n",
    "print(len(txt_list_wildboar))"
   ]
  },
  {
   "cell_type": "code",
   "execution_count": 4,
   "id": "563c63ed",
   "metadata": {
    "ExecuteTime": {
     "end_time": "2021-10-31T15:05:46.105429Z",
     "start_time": "2021-10-31T15:05:46.095439Z"
    }
   },
   "outputs": [
    {
     "name": "stdout",
     "output_type": "stream",
     "text": [
      "12453\n"
     ]
    }
   ],
   "source": [
    "# 리스트가 동일한지 확인\n",
    "cnt = 0\n",
    "for i in range(len(jpg_list_wildboar)):\n",
    "    if jpg_list_wildboar[i][15:-3] == txt_list_wildboar[i][15:-3]:\n",
    "        cnt+=1\n",
    "print(cnt)\n",
    "# ok"
   ]
  },
  {
   "cell_type": "code",
   "execution_count": 5,
   "id": "87f1fdb1",
   "metadata": {
    "ExecuteTime": {
     "end_time": "2021-10-31T15:05:47.143623Z",
     "start_time": "2021-10-31T15:05:47.140630Z"
    }
   },
   "outputs": [],
   "source": [
    "os.chdir('image_wildboar')"
   ]
  },
  {
   "cell_type": "code",
   "execution_count": 6,
   "id": "9b1ba785",
   "metadata": {
    "ExecuteTime": {
     "end_time": "2021-10-31T15:05:52.804228Z",
     "start_time": "2021-10-31T15:05:47.739186Z"
    }
   },
   "outputs": [],
   "source": [
    "# 멧돼지이미지 넘버링\n",
    "for i, name in enumerate(jpg_list_wildboar, start = 1):\n",
    "    os.rename(name[15:], str(i)+'_'+name[15:])"
   ]
  },
  {
   "cell_type": "code",
   "execution_count": 7,
   "id": "ac31605f",
   "metadata": {
    "ExecuteTime": {
     "end_time": "2021-10-31T15:05:52.850479Z",
     "start_time": "2021-10-31T15:05:52.835994Z"
    }
   },
   "outputs": [],
   "source": [
    "os.chdir('../label_wildboar')"
   ]
  },
  {
   "cell_type": "code",
   "execution_count": 8,
   "id": "5b9d445d",
   "metadata": {
    "ExecuteTime": {
     "end_time": "2021-10-31T15:05:56.883545Z",
     "start_time": "2021-10-31T15:05:52.882608Z"
    }
   },
   "outputs": [],
   "source": [
    "# 멧돼지라벨 넘버링\n",
    "for i, name in enumerate(txt_list_wildboar, start = 1):\n",
    "    os.rename(name[15:], str(i)+'_'+name[15:])"
   ]
  },
  {
   "cell_type": "code",
   "execution_count": 9,
   "id": "55b338a6",
   "metadata": {
    "ExecuteTime": {
     "end_time": "2021-10-31T15:05:56.914262Z",
     "start_time": "2021-10-31T15:05:56.900269Z"
    }
   },
   "outputs": [],
   "source": [
    "os.chdir('../')"
   ]
  },
  {
   "cell_type": "code",
   "execution_count": 10,
   "id": "4e284355",
   "metadata": {
    "ExecuteTime": {
     "end_time": "2021-10-31T15:05:57.054291Z",
     "start_time": "2021-10-31T15:05:56.945326Z"
    }
   },
   "outputs": [
    {
     "name": "stdout",
     "output_type": "stream",
     "text": [
      "11405\n",
      "11405\n",
      "11405\n"
     ]
    }
   ],
   "source": [
    "# 고라니\n",
    "jpg_list_gorani = glob('image_gorani/*.jpg')\n",
    "txt_list_gorani = glob('label_gorani/*.txt')\n",
    "print(len(jpg_list_gorani))\n",
    "print(len(txt_list_gorani))\n",
    "cnt = 0\n",
    "for i in range(len(jpg_list_gorani)):\n",
    "    if jpg_list_gorani[i][15:-3] == txt_list_gorani[i][15:-3]:\n",
    "        cnt+=1\n",
    "print(cnt)"
   ]
  },
  {
   "cell_type": "code",
   "execution_count": 11,
   "id": "a782bea1",
   "metadata": {
    "ExecuteTime": {
     "end_time": "2021-10-31T15:05:57.100472Z",
     "start_time": "2021-10-31T15:05:57.086342Z"
    }
   },
   "outputs": [],
   "source": [
    "os.chdir('image_gorani')"
   ]
  },
  {
   "cell_type": "code",
   "execution_count": 12,
   "id": "d0c71901",
   "metadata": {
    "ExecuteTime": {
     "end_time": "2021-10-31T15:06:01.288777Z",
     "start_time": "2021-10-31T15:05:57.132386Z"
    }
   },
   "outputs": [],
   "source": [
    "# 고라니이미지 넘버링\n",
    "for i, name in enumerate(jpg_list_gorani, start = 1):\n",
    "    os.rename(name[13:], str(i)+'_'+name[13:])"
   ]
  },
  {
   "cell_type": "code",
   "execution_count": 13,
   "id": "29d96b85",
   "metadata": {
    "ExecuteTime": {
     "end_time": "2021-10-31T15:06:01.335546Z",
     "start_time": "2021-10-31T15:06:01.320979Z"
    }
   },
   "outputs": [],
   "source": [
    "os.chdir('../label_gorani')"
   ]
  },
  {
   "cell_type": "code",
   "execution_count": 14,
   "id": "4bb32123",
   "metadata": {
    "ExecuteTime": {
     "end_time": "2021-10-31T15:06:05.694557Z",
     "start_time": "2021-10-31T15:06:01.367957Z"
    }
   },
   "outputs": [],
   "source": [
    "# 고라니라벨 넘버링\n",
    "for i, name in enumerate(txt_list_gorani, start = 1):\n",
    "    os.rename(name[13:], str(i)+'_'+name[13:])"
   ]
  },
  {
   "cell_type": "code",
   "execution_count": null,
   "id": "5aedd09a",
   "metadata": {},
   "outputs": [],
   "source": []
  }
 ],
 "metadata": {
  "kernelspec": {
   "display_name": "Python 3 (ipykernel)",
   "language": "python",
   "name": "python3"
  },
  "language_info": {
   "codemirror_mode": {
    "name": "ipython",
    "version": 3
   },
   "file_extension": ".py",
   "mimetype": "text/x-python",
   "name": "python",
   "nbconvert_exporter": "python",
   "pygments_lexer": "ipython3",
   "version": "3.8.8"
  },
  "toc": {
   "base_numbering": 1,
   "nav_menu": {},
   "number_sections": true,
   "sideBar": true,
   "skip_h1_title": false,
   "title_cell": "Table of Contents",
   "title_sidebar": "Contents",
   "toc_cell": false,
   "toc_position": {},
   "toc_section_display": true,
   "toc_window_display": false
  },
  "varInspector": {
   "cols": {
    "lenName": 16,
    "lenType": 16,
    "lenVar": 40
   },
   "kernels_config": {
    "python": {
     "delete_cmd_postfix": "",
     "delete_cmd_prefix": "del ",
     "library": "var_list.py",
     "varRefreshCmd": "print(var_dic_list())"
    },
    "r": {
     "delete_cmd_postfix": ") ",
     "delete_cmd_prefix": "rm(",
     "library": "var_list.r",
     "varRefreshCmd": "cat(var_dic_list()) "
    }
   },
   "types_to_exclude": [
    "module",
    "function",
    "builtin_function_or_method",
    "instance",
    "_Feature"
   ],
   "window_display": false
  }
 },
 "nbformat": 4,
 "nbformat_minor": 5
}
