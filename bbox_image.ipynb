{
 "cells": [
  {
   "cell_type": "code",
   "execution_count": 1,
   "metadata": {},
   "outputs": [],
   "source": [
    "import os\n",
    "from glob import glob"
   ]
  },
  {
   "cell_type": "markdown",
   "metadata": {},
   "source": [
    "# bbox가 남아있는 사진만 남기기"
   ]
  },
  {
   "cell_type": "code",
   "execution_count": 3,
   "metadata": {},
   "outputs": [],
   "source": [
    "# os.remove('bbox1.txt')"
   ]
  },
  {
   "cell_type": "code",
   "execution_count": 28,
   "metadata": {},
   "outputs": [],
   "source": [
    "os.chdir('../test')"
   ]
  },
  {
   "cell_type": "code",
   "execution_count": 5,
   "metadata": {},
   "outputs": [
    {
     "name": "stdout",
     "output_type": "stream",
     "text": [
      "11759\n",
      "<class 'list'>\n",
      "['../label_gorani\\\\1-고라니 (2) 01.txt', '../label_gorani\\\\1-고라니 (2) 02.txt', '../label_gorani\\\\1-고라니 (2) 03.txt']\n"
     ]
    }
   ],
   "source": [
    "file_list=glob('../label_gorani/*.txt')\n",
    "print(len(file_list))\n",
    "print(type(file_list))\n",
    "print(file_list[0:3])"
   ]
  },
  {
   "cell_type": "code",
   "execution_count": 6,
   "metadata": {},
   "outputs": [
    {
     "name": "stdout",
     "output_type": "stream",
     "text": [
      "['1-고라니 (2) 01.jpg', '1-고라니 (2) 02.jpg', '1-고라니 (2) 03.jpg']\n"
     ]
    }
   ],
   "source": [
    "file_list2=[]\n",
    "for i in range(len(file_list)):\n",
    "    file_list2.append(file_list[i][16:-3]+'jpg')\n",
    "print(file_list2[0:3])"
   ]
  },
  {
   "cell_type": "code",
   "execution_count": 2,
   "metadata": {},
   "outputs": [
    {
     "data": {
      "text/plain": [
       "'C:\\\\Users\\\\tripleler\\\\python\\\\NationalPark_Project\\\\test'"
      ]
     },
     "execution_count": 2,
     "metadata": {},
     "output_type": "execute_result"
    }
   ],
   "source": [
    "os.getcwd()"
   ]
  },
  {
   "cell_type": "code",
   "execution_count": 7,
   "metadata": {},
   "outputs": [],
   "source": [
    "os.chdir('../image_gorani')"
   ]
  },
  {
   "cell_type": "code",
   "execution_count": 8,
   "metadata": {},
   "outputs": [
    {
     "data": {
      "text/plain": [
       "'C:\\\\Users\\\\tripleler\\\\python\\\\NationalPark_Project\\\\image_gorani'"
      ]
     },
     "execution_count": 8,
     "metadata": {},
     "output_type": "execute_result"
    }
   ],
   "source": [
    "os.getcwd()"
   ]
  },
  {
   "cell_type": "code",
   "execution_count": 9,
   "metadata": {},
   "outputs": [
    {
     "name": "stdout",
     "output_type": "stream",
     "text": [
      "11405\n",
      "<class 'list'>\n",
      "['1-고라니 (2) 01.jpg', '1-고라니 (2) 02.jpg', '1-고라니 (2) 03.jpg']\n"
     ]
    }
   ],
   "source": [
    "file_list_image=glob('*.jpg')\n",
    "print(len(file_list_image))\n",
    "print(type(file_list_image))\n",
    "print(file_list_image[0:3])"
   ]
  },
  {
   "cell_type": "code",
   "execution_count": 35,
   "metadata": {},
   "outputs": [],
   "source": [
    "for i in range(len(file_list_image)):\n",
    "    if file_list_image[i] not in file_list2:\n",
    "        os.remove(file_list_image[i])"
   ]
  },
  {
   "cell_type": "markdown",
   "metadata": {},
   "source": [
    "# 사진의 bbox표시 띄우기"
   ]
  },
  {
   "cell_type": "markdown",
   "metadata": {},
   "source": [
    "#### 파일 목록 불러오기"
   ]
  },
  {
   "cell_type": "code",
   "execution_count": 1,
   "metadata": {},
   "outputs": [],
   "source": [
    "import cv2\n",
    "import sys\n",
    "from glob import glob\n",
    "import numpy as np "
   ]
  },
  {
   "cell_type": "code",
   "execution_count": 2,
   "metadata": {},
   "outputs": [
    {
     "name": "stdout",
     "output_type": "stream",
     "text": [
      "9197\n",
      "<class 'list'>\n",
      "['../image_wildboar\\\\1-멧돼지 2마리-하 01.jpg', '../image_wildboar\\\\1-멧돼지 2마리-하 02.jpg']\n"
     ]
    }
   ],
   "source": [
    "jpg_list=glob('../image_wildboar/*.jpg')\n",
    "print(len(jpg_list))\n",
    "print(type(jpg_list))\n",
    "print(jpg_list[0:2])"
   ]
  },
  {
   "cell_type": "code",
   "execution_count": 3,
   "metadata": {},
   "outputs": [],
   "source": [
    "for i in range(len(jpg_list)):\n",
    "    jpg_list[i]=jpg_list[i].replace('\\\\','/')"
   ]
  },
  {
   "cell_type": "code",
   "execution_count": 30,
   "metadata": {},
   "outputs": [
    {
     "data": {
      "text/plain": [
       "['../image_gorani/1-고라니 (2) 01.jpg',\n",
       " '../image_gorani/1-고라니 (2) 02.jpg',\n",
       " '../image_gorani/1-고라니 (2) 03.jpg']"
      ]
     },
     "execution_count": 30,
     "metadata": {},
     "output_type": "execute_result"
    }
   ],
   "source": [
    "jpg_list[0:3]"
   ]
  },
  {
   "cell_type": "code",
   "execution_count": 13,
   "metadata": {},
   "outputs": [
    {
     "data": {
      "text/plain": [
       "'소북_생태통로_001_멧돼지_20190925_0622 (1) 03'"
      ]
     },
     "execution_count": 13,
     "metadata": {},
     "output_type": "execute_result"
    }
   ],
   "source": [
    "jpg_list[4522][18:-4]"
   ]
  },
  {
   "cell_type": "code",
   "execution_count": 10,
   "metadata": {},
   "outputs": [
    {
     "data": {
      "text/plain": [
       "'C:\\\\Users\\\\tripleler\\\\python\\\\NationalPark_Project\\\\test'"
      ]
     },
     "execution_count": 10,
     "metadata": {},
     "output_type": "execute_result"
    }
   ],
   "source": [
    "import os\n",
    "os.getcwd()"
   ]
  },
  {
   "cell_type": "code",
   "execution_count": 14,
   "metadata": {},
   "outputs": [],
   "source": [
    "os.chdir('../test')"
   ]
  },
  {
   "cell_type": "code",
   "execution_count": 18,
   "metadata": {},
   "outputs": [
    {
     "data": {
      "text/plain": [
       "'1-고라니 (2) 01.jpg'"
      ]
     },
     "execution_count": 18,
     "metadata": {},
     "output_type": "execute_result"
    }
   ],
   "source": [
    "jpg_list[0][16:]"
   ]
  },
  {
   "cell_type": "code",
   "execution_count": 19,
   "metadata": {},
   "outputs": [
    {
     "data": {
      "text/plain": [
       "'../image_gorani/2-고라니 (4) 22.jpg'"
      ]
     },
     "execution_count": 19,
     "metadata": {},
     "output_type": "execute_result"
    }
   ],
   "source": [
    "jpg_list[150]"
   ]
  },
  {
   "cell_type": "code",
   "execution_count": 20,
   "metadata": {},
   "outputs": [
    {
     "data": {
      "text/plain": [
       "'2-고라니 (4) 22'"
      ]
     },
     "execution_count": 20,
     "metadata": {},
     "output_type": "execute_result"
    }
   ],
   "source": [
    "jpg_list[150][16:-4]"
   ]
  },
  {
   "cell_type": "code",
   "execution_count": 7,
   "metadata": {},
   "outputs": [
    {
     "data": {
      "text/plain": [
       "'C:\\\\Users\\\\tripleler\\\\python\\\\NationalPark_Project\\\\test'"
      ]
     },
     "execution_count": 7,
     "metadata": {},
     "output_type": "execute_result"
    }
   ],
   "source": [
    "import os\n",
    "os.getcwd()"
   ]
  },
  {
   "cell_type": "markdown",
   "metadata": {},
   "source": [
    "#### 사진 샘플 띄워보기"
   ]
  },
  {
   "cell_type": "code",
   "execution_count": 6,
   "metadata": {},
   "outputs": [],
   "source": [
    "#practice MegaDetector\n",
    "i=4522\n",
    "img_array = np.fromfile('../image_wildboar/'+jpg_list[i][18:], np.uint8) # 한글제목을 불러오기 위한 디코딩\n",
    "img = cv2.imdecode(img_array, cv2.IMREAD_COLOR)\n",
    "fy, fx, _ = img.shape # 사진 크기값 받아오기\n",
    "x,y,w,h = 0.4747, 0.2639, 0.4307, 0.4169\n",
    "x1=round(x*fx)\n",
    "x2=round((x+w)*fx)\n",
    "y1=round(y*fy)\n",
    "y2=round((y+h)*fy)\n",
    "# cv2.rectangle(img, (x1,y1), (x2,y2), (0,0,255),5)\n",
    "cv2.imshow(str(i), img)\n",
    "cv2.waitKey()\n",
    "cv2.destroyAllWindows()"
   ]
  },
  {
   "cell_type": "code",
   "execution_count": 29,
   "metadata": {},
   "outputs": [],
   "source": [
    "#practice YOLOv5\n",
    "i=4522 \n",
    "img_array = np.fromfile('../image_wildboar/'+jpg_list[i][18:], np.uint8) # 한글제목을 불러오기 위한 디코딩\n",
    "img = cv2.imdecode(img_array, cv2.IMREAD_COLOR)\n",
    "fy, fx, _ = img.shape # 사진 크기값 받아오기\n",
    "x,y,w,h = 0.4747, 0.2639, 0.4307, 0.4169\n",
    "x1=round((x-0.5*w)*fx)\n",
    "x2=round((x+0.5*w)*fx)\n",
    "y1=round((y-0.5*h)*fy)\n",
    "y2=round((y+0.5*h)*fy)\n",
    "cv2.rectangle(img, (x1,y1), (x2,y2), (0,0,255),5)\n",
    "cv2.imshow(str(i), img)\n",
    "cv2.waitKey()\n",
    "cv2.destroyAllWindows()"
   ]
  },
  {
   "cell_type": "code",
   "execution_count": 30,
   "metadata": {},
   "outputs": [
    {
     "name": "stdout",
     "output_type": "stream",
     "text": [
      "0.690234375 0.4722222222222222 0.43046875 0.4166666666666667\n"
     ]
    }
   ],
   "source": [
    "#practice YOLOv5 좌표얻기\n",
    "i=4522 \n",
    "img_array = np.fromfile('../image_wildboar/'+jpg_list[i][18:], np.uint8) # 한글제목을 불러오기 위한 디코딩\n",
    "img = cv2.imdecode(img_array, cv2.IMREAD_COLOR)\n",
    "fy, fx, _ = img.shape # 사진 크기값 받아오기\n",
    "x,y,w,h = 0.4747, 0.2639, 0.4307, 0.4169\n",
    "x1=round(x*fx)\n",
    "x2=round((x+w)*fx)\n",
    "y1=round(y*fy)\n",
    "y2=round((y+h)*fy)\n",
    "x=(x2+x1)/(2*fx)\n",
    "y=(y2+y1)/(2*fy)\n",
    "w=(x2-x1)/fx\n",
    "h=(y2-y1)/fy\n",
    "print(x,y,w,h)"
   ]
  },
  {
   "cell_type": "code",
   "execution_count": 10,
   "metadata": {},
   "outputs": [],
   "source": [
    "#practice YOLOv5\n",
    "i=4522 \n",
    "img_array = np.fromfile('../image_wildboar/'+jpg_list[i][18:], np.uint8) # 한글제목을 불러오기 위한 디코딩\n",
    "img = cv2.imdecode(img_array, cv2.IMREAD_COLOR)\n",
    "fy, fx, _ = img.shape # 사진 크기값 받아오기\n",
    "x,y,w,h = 0.6902, 0.4722, 0.4305, 0.4167\n",
    "x1=round((x-0.5*w)*fx)\n",
    "x2=round((x+0.5*w)*fx)\n",
    "y1=round((y-0.5*h)*fy)\n",
    "y2=round((y+0.5*h)*fy)\n",
    "cv2.rectangle(img, (x1,y1), (x2,y2), (0,0,255),5)\n",
    "cv2.imshow(str(i), img)\n",
    "cv2.moveWindow(str(i),-16,-31)\n",
    "cv2.waitKey()\n",
    "cv2.destroyAllWindows()"
   ]
  },
  {
   "cell_type": "code",
   "execution_count": 9,
   "metadata": {},
   "outputs": [],
   "source": [
    "#practice\n",
    "i=4522\n",
    "img_array = np.fromfile('../image_wildboar/'+jpg_list[i][18:], np.uint8)\n",
    "img = cv2.imdecode(img_array, cv2.IMREAD_COLOR)\n",
    "fy, fx, _ = img.shape\n",
    "with open('../label_wildboar/'+jpg_list[i][18:-4]+'.txt', 'r') as f:\n",
    "    code=f.read().split('\\n')\n",
    "for j in range(len(code)):\n",
    "    _,x,y,w,h=code[j].split(' ')\n",
    "    x=float(x); y=float(y); w=float(w); h=float(h)\n",
    "    x1=round(-fx/2*w+fx*x)\n",
    "    x2=round(fx/2*w+fx*x)\n",
    "    y1=round(-fy/2*h+fy*y)\n",
    "    y2=round(fy/2*h+fy*y)\n",
    "    w=x2-x1\n",
    "    h=y2-y1\n",
    "    cv2.rectangle(img, (x1,y1), (x2,y2), (0,0,255),5)\n",
    "#     _,x,y,w,h=f.read().split(' ')\n",
    "# x=float(x); y=float(y); w=float(w); h=float(h)\n",
    "# x1=round(-fx/2*w+fx*x)\n",
    "# x2=round(fx/2*w+fx*x)\n",
    "# y1=round(-fy/2*h+fy*y)\n",
    "# y2=round(fy/2*h+fy*y)\n",
    "# cv2.rectangle(img, (x1,y1), (x2,y2), (0,0,255),5)\n",
    "cv2.imshow(str(i), img)\n",
    "cv2.waitKey()\n",
    "cv2.destroyAllWindows()"
   ]
  },
  {
   "cell_type": "code",
   "execution_count": 116,
   "metadata": {},
   "outputs": [
    {
     "name": "stdout",
     "output_type": "stream",
     "text": [
      "멧돼지 20190627 1842-1939 11(새끼9) (7) 08 .jpg 까지 확인하였습니다.\n",
      "멧돼지 20190627 1842-1939 11(새끼9) (7) 08 .jpg 는 1447번째이므로 다음에 돌리면 start값을 1448로 주세요\n"
     ]
    }
   ],
   "source": [
    "# real\n",
    "# esc를 누르면 다음사진\n",
    "# r을 누르면 이상한 사진목록 세이브\n",
    "# q를 누르면 종료\n",
    "strange_list=[]\n",
    "start=1448\n",
    "for i in range(start,len(jpg_list)):\n",
    "    img_array = np.fromfile(jpg_list[i], np.uint8)\n",
    "    img = cv2.imdecode(img_array, cv2.IMREAD_COLOR)\n",
    "    fy, fx, _ = img.shape\n",
    "    with open('../label_reformat_real/'+jpg_list[i][9:-4]+'.txt', 'r') as f:\n",
    "        code=f.read().split('\\n')\n",
    "    for j in range(len(code)):\n",
    "        _,x,y,w,h=code[j].split(' ')\n",
    "        x=float(x); y=float(y); w=float(w); h=float(h)\n",
    "        x1=round(-fx/2*w+fx*x)\n",
    "        x2=round(fx/2*w+fx*x)\n",
    "        y1=round(-fy/2*h+fy*y)\n",
    "        y2=round(fy/2*h+fy*y)\n",
    "        cv2.rectangle(img, (x1,y1), (x2,y2), (0,0,255),5)\n",
    "    cv2.imshow(str(i), img)\n",
    "    cv2.moveWindow(str(i),-16,-31) # 창 위치 조절\n",
    "    key=cv2.waitKey()\n",
    "    if key == ord('q'):\n",
    "        break\n",
    "    elif key == ord('r'):\n",
    "        strange_list.append(jpg_list[i][9:-4]+'.jpg')\n",
    "    cv2.destroyAllWindows()\n",
    "cv2.destroyAllWindows()\n",
    "print(jpg_list[i][9:-4],'.jpg 까지 확인하였습니다.')\n",
    "print(jpg_list[i][9:-4], f'.jpg 는 {i}번째이므로 다음에 돌리면 start값을 {i+1}로 주세요')"
   ]
  },
  {
   "cell_type": "code",
   "execution_count": 78,
   "metadata": {},
   "outputs": [
    {
     "data": {
      "text/plain": [
       "['멧돼지 20190627 1558 새끼6 37.jpg',\n",
       " '멧돼지 20190627 1558 새끼6 38.jpg',\n",
       " '멧돼지 20190627 1842-1939 11(새끼9) (10) 03.jpg',\n",
       " '멧돼지 20190627 1842-1939 11(새끼9) (10) 04.jpg']"
      ]
     },
     "execution_count": 78,
     "metadata": {},
     "output_type": "execute_result"
    }
   ],
   "source": [
    "strange_list[-4:]"
   ]
  },
  {
   "cell_type": "code",
   "execution_count": 117,
   "metadata": {},
   "outputs": [],
   "source": [
    "s=''\n",
    "for i in range(len(strange_list)):\n",
    "    s+=strange_list[i]\n",
    "    s+='\\n'"
   ]
  },
  {
   "cell_type": "code",
   "execution_count": 118,
   "metadata": {},
   "outputs": [],
   "source": [
    "with open('strange.txt', 'a') as f:\n",
    "    f.write(s)"
   ]
  },
  {
   "cell_type": "code",
   "execution_count": null,
   "metadata": {},
   "outputs": [],
   "source": []
  },
  {
   "cell_type": "code",
   "execution_count": null,
   "metadata": {},
   "outputs": [],
   "source": []
  },
  {
   "cell_type": "code",
   "execution_count": 26,
   "metadata": {},
   "outputs": [
    {
     "name": "stdout",
     "output_type": "stream",
     "text": [
      "소북_생태통로_001_멧돼지_20190925_0622 (1) 03 .jpg 까지 확인하였습니다.\n",
      "소북_생태통로_001_멧돼지_20190925_0622 (1) 03 .jpg 는 4522번째이므로 다음에 돌리면 start값을 4523로 주세요\n"
     ]
    }
   ],
   "source": [
    "# sample\n",
    "# p를 누르면 다음사진 | press 'p' means show next sccne\n",
    "# b를 누르면 이전사진 | press 'b' means show before scene\n",
    "# r을 누르면 이상한 사진목록 세이브 | press 'r' means record strange scene name\n",
    "# q를 누르면 종료 | press 'q' means quit system\n",
    "start=4522\n",
    "strange_list=[]\n",
    "i=start\n",
    "while i<len(jpg_list):\n",
    "    img_array = np.fromfile(jpg_list[i], np.uint8)\n",
    "    img = cv2.imdecode(img_array, cv2.IMREAD_COLOR)\n",
    "    fy, fx, _ = img.shape\n",
    "    with open('../label_wildboar/'+jpg_list[i][18:-4]+'.txt', 'r') as f:\n",
    "        code=f.read().split('\\n')\n",
    "    for j in range(len(code)):\n",
    "        _,x,y,w,h=code[j].split(' ')\n",
    "        x=float(x); y=float(y); w=float(w); h=float(h)\n",
    "        x1=round(fx*(x-w))\n",
    "        x2=round(fx*x)\n",
    "        y1=round(fy*(y-h))\n",
    "        y2=round(fy*y)\n",
    "        cv2.rectangle(img, (x1,y1), (x2,y2), (0,0,255),5)\n",
    "    cv2.imshow(str(i), img)\n",
    "    cv2.moveWindow(str(i),-16,-31) # 창 위치 조절\n",
    "    key=cv2.waitKey()\n",
    "    if key == ord('q'):\n",
    "        break\n",
    "    if key == ord('r'):\n",
    "        strange_list.append(jpg_list[i][18:-4]+'.jpg')\n",
    "        i+=1\n",
    "        cv2.destroyAllWindows()\n",
    "    if key == ord('p'):\n",
    "        i+=1\n",
    "        cv2.destroyAllWindows()\n",
    "    if key == ord('b'):\n",
    "        i-=1\n",
    "        cv2.destroyAllWindows()\n",
    "    cv2.destroyAllWindows()\n",
    "cv2.destroyAllWindows()\n",
    "print(jpg_list[i][18:-4],'.jpg 까지 확인하였습니다.')\n",
    "print(jpg_list[i][18:-4], f'.jpg 는 {i}번째이므로 다음에 돌리면 start값을 {i+1}로 주세요')"
   ]
  },
  {
   "cell_type": "code",
   "execution_count": 21,
   "metadata": {},
   "outputs": [
    {
     "name": "stdout",
     "output_type": "stream",
     "text": [
      "1_jpg.rf.69d9b61e3cdb8a9047dad25099fcc8ef .jpg 까지 확인하였습니다.\n",
      "1_jpg.rf.69d9b61e3cdb8a9047dad25099fcc8ef .jpg 는 0번째이므로 다음에 돌리면 start값을 1로 주세요\n",
      "0.48525 0.3991195891415994 0.1045 0.20689655172413793\n"
     ]
    }
   ],
   "source": [
    "# pro\n",
    "# p를 누르면 다음사진 | press 'p' means show next sccne\n",
    "# b를 누르면 이전사진 | press 'b' means show before scene\n",
    "# r을 누르면 이상한 사진목록 세이브 | press 'r' means record strange scene name\n",
    "# q를 누르면 종료 | press 'q' means quit system\n",
    "start=0\n",
    "strange_list=[]\n",
    "i=start\n",
    "while i<len(jpg_list):\n",
    "    img_array = np.fromfile(jpg_list[i], np.uint8)\n",
    "    img = cv2.imdecode(img_array, cv2.IMREAD_COLOR)\n",
    "    fy, fx, _ = img.shape\n",
    "    with open('../label_face/'+jpg_list[i][14:-4]+'.txt', 'r') as f:\n",
    "        code=f.read().split('\\n')\n",
    "    for j in range(len(code)):\n",
    "        _,x,y,w,h=code[j].split(' ')\n",
    "        x=float(x); y=float(y); w=float(w); h=float(h)\n",
    "        x1=round(-fx/2*w+fx*x)\n",
    "        x2=round(fx/2*w+fx*x)\n",
    "        y1=round(-fy/2*h+fy*y)\n",
    "        y2=round(fy/2*h+fy*y)\n",
    "        cv2.rectangle(img, (x1,y1), (x2,y2), (0,0,255),5)\n",
    "    cv2.imshow(str(i), img)\n",
    "    cv2.moveWindow(str(i),-16,-31) # 창 위치 조절\n",
    "    key=cv2.waitKey()\n",
    "    if key == ord('q'):\n",
    "        break\n",
    "    if key == ord('r'):\n",
    "        strange_list.append(jpg_list[i][18:-4]+'.jpg')\n",
    "        i+=1\n",
    "        cv2.destroyAllWindows()\n",
    "    if key == ord('p'):\n",
    "        i+=1\n",
    "        cv2.destroyAllWindows()\n",
    "    if key == ord('b'):\n",
    "        i-=1\n",
    "        cv2.destroyAllWindows()\n",
    "    cv2.destroyAllWindows()\n",
    "cv2.destroyAllWindows()\n",
    "print(jpg_list[i][18:-4],'.jpg 까지 확인하였습니다.')\n",
    "print(jpg_list[i][18:-4], f'.jpg 는 {i}번째이므로 다음에 돌리면 start값을 {i+1}로 주세요')\n",
    "print(x,y,w,h) #4522"
   ]
  },
  {
   "cell_type": "code",
   "execution_count": 10,
   "metadata": {},
   "outputs": [],
   "source": [
    "s=''\n",
    "for i in range(len(strange_list)):\n",
    "    s+=strange_list[i]\n",
    "    s+='\\n'"
   ]
  },
  {
   "cell_type": "code",
   "execution_count": null,
   "metadata": {},
   "outputs": [],
   "source": []
  },
  {
   "cell_type": "code",
   "execution_count": 11,
   "metadata": {},
   "outputs": [],
   "source": [
    "with open('strange_wildboar.txt', 'a') as f:\n",
    "    f.write(s)"
   ]
  },
  {
   "cell_type": "code",
   "execution_count": null,
   "metadata": {},
   "outputs": [],
   "source": [
    "#880"
   ]
  },
  {
   "cell_type": "code",
   "execution_count": 46,
   "metadata": {},
   "outputs": [
    {
     "data": {
      "text/plain": [
       "'C:\\\\Users\\\\tripleler\\\\python\\\\NationalPark_Project\\\\test'"
      ]
     },
     "execution_count": 46,
     "metadata": {},
     "output_type": "execute_result"
    }
   ],
   "source": [
    "os.getcwd()"
   ]
  },
  {
   "cell_type": "code",
   "execution_count": 12,
   "metadata": {},
   "outputs": [],
   "source": [
    "with open('strange_wildboar.txt', 'r') as f:\n",
    "    file_list=f.read().split('\\n')"
   ]
  },
  {
   "cell_type": "code",
   "execution_count": 15,
   "metadata": {},
   "outputs": [
    {
     "name": "stdout",
     "output_type": "stream",
     "text": [
      "3256\n"
     ]
    },
    {
     "data": {
      "text/plain": [
       "['소북_생태통로_001_멧돼지_20190930_2309 20.jpg',\n",
       " '소북_생태통로_001_멧돼지_20191101_0052 2(새끼1) 15.jpg',\n",
       " '소북_생태통로_001_멧돼지_20191101_0052 2(새끼1) 16.jpg']"
      ]
     },
     "execution_count": 15,
     "metadata": {},
     "output_type": "execute_result"
    }
   ],
   "source": [
    "print(len(file_list))\n",
    "file_list[-3:]"
   ]
  },
  {
   "cell_type": "code",
   "execution_count": 14,
   "metadata": {},
   "outputs": [
    {
     "data": {
      "text/plain": [
       "''"
      ]
     },
     "execution_count": 14,
     "metadata": {},
     "output_type": "execute_result"
    }
   ],
   "source": [
    "file_list.pop(-1)"
   ]
  },
  {
   "cell_type": "code",
   "execution_count": 16,
   "metadata": {},
   "outputs": [
    {
     "name": "stdout",
     "output_type": "stream",
     "text": [
      "C:\\Users\\tripleler\\python\\NationalPark_Project\\image_wildboar\n"
     ]
    }
   ],
   "source": [
    "cd ../image_wildboar/"
   ]
  },
  {
   "cell_type": "code",
   "execution_count": 55,
   "metadata": {},
   "outputs": [
    {
     "data": {
      "text/plain": [
       "'image_gorani/1-고라니 02.jpg'"
      ]
     },
     "execution_count": 55,
     "metadata": {},
     "output_type": "execute_result"
    }
   ],
   "source": [
    "'image_'+file_list[0]"
   ]
  },
  {
   "cell_type": "code",
   "execution_count": 17,
   "metadata": {},
   "outputs": [],
   "source": [
    "for i in range(len(file_list)):\n",
    "    os.remove(file_list[i])"
   ]
  },
  {
   "cell_type": "code",
   "execution_count": 12,
   "metadata": {},
   "outputs": [
    {
     "data": {
      "text/plain": [
       "10526"
      ]
     },
     "execution_count": 12,
     "metadata": {},
     "output_type": "execute_result"
    }
   ],
   "source": [
    "len(jpg_list)"
   ]
  },
  {
   "cell_type": "code",
   "execution_count": 31,
   "metadata": {},
   "outputs": [
    {
     "name": "stdout",
     "output_type": "stream",
     "text": [
      "_생태통로_435_고라니_20190507_2050-53 (1) 29 .jpg 까지 확인하였습니다.\n",
      "_생태통로_435_고라니_20190507_2050-53 (1) 29 .jpg 는 10445번째이므로 다음에 돌리면 start값을 10446로 주세요\n"
     ]
    }
   ],
   "source": [
    "# pro reverse\n",
    "# p를 누르면 다음사진 | press 'p' means show next sccne\n",
    "# b를 누르면 이전사진 | press 'b' means show before scene\n",
    "# r을 누르면 이상한 사진목록 세이브 | press 'r' means record strange scene name\n",
    "# q를 누르면 종료 | press 'q' means quit system\n",
    "start=10525\n",
    "strange_list=[]\n",
    "i=start\n",
    "while i<len(jpg_list):\n",
    "    img_array = np.fromfile(jpg_list[i], np.uint8)\n",
    "    img = cv2.imdecode(img_array, cv2.IMREAD_COLOR)\n",
    "    fy, fx, _ = img.shape\n",
    "    with open('../label_gorani/'+jpg_list[i][16:-4]+'.txt', 'r') as f:\n",
    "        code=f.read().split('\\n')\n",
    "    for j in range(len(code)):\n",
    "        _,x,y,w,h=code[j].split(' ')\n",
    "        x=float(x); y=float(y); w=float(w); h=float(h)\n",
    "        x1=round(-fx/2*w+fx*x)\n",
    "        x2=round(fx/2*w+fx*x)\n",
    "        y1=round(-fy/2*h+fy*y)\n",
    "        y2=round(fy/2*h+fy*y)\n",
    "        cv2.rectangle(img, (x1,y1), (x2,y2), (0,0,255),5)\n",
    "    cv2.imshow(str(i), img)\n",
    "    cv2.moveWindow(str(i),-16,-31) # 창 위치 조절\n",
    "    key=cv2.waitKey()\n",
    "    if key == ord('q'):\n",
    "        break\n",
    "    if key == ord('r'):\n",
    "        strange_list.append(jpg_list[i][18:-4]+'.jpg')\n",
    "        i-=1\n",
    "        cv2.destroyAllWindows()\n",
    "    if key == ord('p'):\n",
    "        i-=1\n",
    "        cv2.destroyAllWindows()\n",
    "    if key == ord('b'):\n",
    "        i+=1\n",
    "        cv2.destroyAllWindows()\n",
    "    cv2.destroyAllWindows()\n",
    "cv2.destroyAllWindows()\n",
    "print(jpg_list[i][18:-4],'.jpg 까지 확인하였습니다.')\n",
    "print(jpg_list[i][18:-4], f'.jpg 는 {i}번째이므로 다음에 돌리면 start값을 {i+1}로 주세요')"
   ]
  },
  {
   "cell_type": "code",
   "execution_count": 15,
   "metadata": {},
   "outputs": [],
   "source": [
    "s=''\n",
    "for i in range(len(strange_list)):\n",
    "    s+=strange_list[i]\n",
    "    s+='\\n'"
   ]
  },
  {
   "cell_type": "code",
   "execution_count": 16,
   "metadata": {},
   "outputs": [
    {
     "name": "stdout",
     "output_type": "stream",
     "text": [
      "_생태통로_436_고라니_20190508_0042 20.jpg\n",
      "_생태통로_436_고라니_20190508_0042 19.jpg\n",
      "_생태통로_436_고라니_20190508_0042 18.jpg\n",
      "_생태통로_436_고라니_20190508_0042 12.jpg\n",
      "_생태통로_436_고라니_20190508_0042 11.jpg\n",
      "_생태통로_424_고라니_20190503_2353 02.jpg\n",
      "_생태통로_424_고라니_20190503_2353 01.jpg\n",
      "_생태통로_423_고라니_20190503_0742 23.jpg\n",
      "_생태통로_423_고라니_20190503_0742 22.jpg\n",
      "_생태통로_423_고라니_20190503_0742 21.jpg\n",
      "_생태통로_423_고라니_20190503_0742 20.jpg\n",
      "_생태통로_423_고라니_20190503_0742 19.jpg\n",
      "_생태통로_423_고라니_20190503_0742 18.jpg\n",
      "_생태통로_423_고라니_20190503_0742 17.jpg\n",
      "_생태통로_423_고라니_20190503_0742 16.jpg\n",
      "_생태통로_423_고라니_20190503_0742 15.jpg\n",
      "_생태통로_423_고라니_20190503_0742 14.jpg\n",
      "_생태통로_423_고라니_20190503_0742 13.jpg\n",
      "_생태통로_423_고라니_20190503_0742 12.jpg\n",
      "_생태통로_423_고라니_20190503_0742 11.jpg\n",
      "_생태통로_423_고라니_20190503_0742 10.jpg\n",
      "_생태통로_423_고라니_20190503_0742 09.jpg\n",
      "_생태통로_423_고라니_20190503_0742 08.jpg\n",
      "_생태통로_423_고라니_20190503_0742 07.jpg\n",
      "_생태통로_423_고라니_20190503_0742 06.jpg\n",
      "_생태통로_423_고라니_20190503_0742 05.jpg\n",
      "_생태통로_416_고라니_20190501_1811 18.jpg\n",
      "_생태통로_416_고라니_20190501_1811 17.jpg\n",
      "_생태통로_416_고라니_20190501_1811 12.jpg\n",
      "_생태통로_416_고라니_20190501_1811 11.jpg\n",
      "_생태통로_416_고라니_20190501_1811 10.jpg\n",
      "_생태통로_416_고라니_20190501_1811 09.jpg\n",
      "_생태통로_416_고라니_20190501_1811 06.jpg\n",
      "_생태통로_416_고라니_20190501_1811 05.jpg\n",
      "_생태통로_416_고라니_20190501_1811 04.jpg\n",
      "_생태통로_416_고라니_20190501_1811 03.jpg\n",
      "_생태통로_416_고라니_20190501_1811 02.jpg\n",
      "_생태통로_416_고라니_20190501_1811 01.jpg\n",
      "_생태통로_415_고라니,멧비둘기2_20190501_1805 38.jpg\n",
      "_생태통로_190_고라니_20190322_1904-18 (3) 38.jpg\n",
      "_생태통로_190_고라니_20190322_1904-18 (3) 37.jpg\n",
      "_생태통로_190_고라니_20190322_1904-18 (3) 36.jpg\n",
      "_생태통로_190_고라니_20190322_1904-18 (3) 35.jpg\n",
      "_생태통로_190_고라니_20190322_1904-18 (3) 34.jpg\n",
      "_생태통로_190_고라니_20190322_1904-18 (3) 33.jpg\n",
      "_생태통로_190_고라니_20190322_1904-18 (3) 32.jpg\n",
      "_생태통로_190_고라니_20190322_1904-18 (3) 31.jpg\n",
      "_생태통로_190_고라니_20190322_1904-18 (3) 30.jpg\n",
      "_생태통로_190_고라니_20190322_1904-18 (3) 29.jpg\n",
      "_생태통로_190_고라니_20190322_1904-18 (3) 28.jpg\n",
      "_생태통로_190_고라니_20190322_1904-18 (3) 27.jpg\n",
      "\n"
     ]
    }
   ],
   "source": [
    "print(s)"
   ]
  },
  {
   "cell_type": "code",
   "execution_count": 25,
   "metadata": {},
   "outputs": [
    {
     "data": {
      "text/plain": [
       "True"
      ]
     },
     "execution_count": 25,
     "metadata": {},
     "output_type": "execute_result"
    }
   ],
   "source": [
    "s='wild boars like gorakkk'\n",
    "'wild boar' in s or gorani in s"
   ]
  },
  {
   "cell_type": "code",
   "execution_count": null,
   "metadata": {},
   "outputs": [],
   "source": []
  }
 ],
 "metadata": {
  "kernelspec": {
   "display_name": "Python 3",
   "language": "python",
   "name": "python3"
  },
  "language_info": {
   "codemirror_mode": {
    "name": "ipython",
    "version": 3
   },
   "file_extension": ".py",
   "mimetype": "text/x-python",
   "name": "python",
   "nbconvert_exporter": "python",
   "pygments_lexer": "ipython3",
   "version": "3.7.6"
  }
 },
 "nbformat": 4,
 "nbformat_minor": 4
}
