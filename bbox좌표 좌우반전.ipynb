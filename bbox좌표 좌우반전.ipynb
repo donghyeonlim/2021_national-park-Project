{
 "cells": [
  {
   "cell_type": "code",
   "execution_count": 1,
   "metadata": {},
   "outputs": [],
   "source": [
    "import os\n",
    "from glob import glob"
   ]
  },
  {
   "cell_type": "code",
   "execution_count": 2,
   "metadata": {},
   "outputs": [],
   "source": [
    "os.chdir('train')"
   ]
  },
  {
   "cell_type": "code",
   "execution_count": 3,
   "metadata": {},
   "outputs": [],
   "source": [
    "file_list=glob('*.txt')"
   ]
  },
  {
   "cell_type": "code",
   "execution_count": 4,
   "metadata": {},
   "outputs": [
    {
     "name": "stdout",
     "output_type": "stream",
     "text": [
      "589 ['0 (2).txt', '0.txt']\n"
     ]
    }
   ],
   "source": [
    "print(len(file_list), file_list[0:2])"
   ]
  },
  {
   "cell_type": "code",
   "execution_count": 15,
   "metadata": {},
   "outputs": [],
   "source": [
    "for i in file_list:\n",
    "    with open(i, 'r') as f:\n",
    "        data=f.read().split()\n",
    "    with open(i, 'w') as f:\n",
    "        f.write(data[0]+' '+str(1-float(data[1]))+' '+data[2]+' '+data[3]+' '+data[4])"
   ]
  },
  {
   "cell_type": "code",
   "execution_count": 9,
   "metadata": {},
   "outputs": [
    {
     "data": {
      "text/plain": [
       "'0 0.506522 0.732072 0.459822 0.260956'"
      ]
     },
     "execution_count": 9,
     "metadata": {},
     "output_type": "execute_result"
    }
   ],
   "source": [
    "data"
   ]
  },
  {
   "cell_type": "code",
   "execution_count": 14,
   "metadata": {},
   "outputs": [
    {
     "name": "stdout",
     "output_type": "stream",
     "text": [
      "['0', '0.398406', '0.490040', '0.521912', '0.844622']\n",
      "0.601594\n",
      "0 0.601594 0.490040 0.521912 0.844622\n"
     ]
    }
   ],
   "source": [
    "i=file_list[0]\n",
    "with open(i, 'r') as f:\n",
    "    data=f.read().split()\n",
    "    print(data)\n",
    "    print(1-float(data[1]))\n",
    "    print(data[0]+' '+str(1-float(data[1]))+' '+data[2]+' '+data[3]+' '+data[4])"
   ]
  },
  {
   "cell_type": "code",
   "execution_count": null,
   "metadata": {},
   "outputs": [],
   "source": []
  }
 ],
 "metadata": {
  "kernelspec": {
   "display_name": "Python 3",
   "language": "python",
   "name": "python3"
  },
  "language_info": {
   "codemirror_mode": {
    "name": "ipython",
    "version": 3
   },
   "file_extension": ".py",
   "mimetype": "text/x-python",
   "name": "python",
   "nbconvert_exporter": "python",
   "pygments_lexer": "ipython3",
   "version": "3.7.6"
  }
 },
 "nbformat": 4,
 "nbformat_minor": 4
}
